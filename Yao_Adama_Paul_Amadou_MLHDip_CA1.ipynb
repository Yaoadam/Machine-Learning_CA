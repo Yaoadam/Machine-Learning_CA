{
 "cells": [
  {
   "cell_type": "markdown",
   "id": "fad5f670",
   "metadata": {},
   "source": [
    "## Table of content\n",
    "    I. Import some libraries\n",
    "    II. Load the data into the data frame\n",
    "    III. Exploratory Data Analysis\n",
    "        1. Display the top 5 rows\n",
    "        2. Display the 5 bottom rows\n",
    "        3. Checking the type of data\n",
    "        4. View summary of dataset\n",
    "        5. Data cleaning\n",
    "    IV. Machine Learning\n",
    "        1. Setting feature vector and target variable\n",
    "        2. Split data into separate training and test set\n",
    "        3. Feature Scaling\n",
    "        4. Logistic Regression model with all features\n",
    "        5. Logistic Regression with PCA\n",
    "        6. Number of features needed for retaining 99.5% variance in the data\n",
    "        7. Plot explained variance ratio with number of dimensions\n",
    "     V. References\n",
    "                "
   ]
  },
  {
   "cell_type": "markdown",
   "id": "bbbdf867",
   "metadata": {},
   "source": [
    "## I. Import some libraries\n",
    "    •\tPandas for manipulating and analyzing tabular data\n",
    "    •\tNumPy for performing numerical and statistical calculations\n",
    "    •\tMatplotlib.pyplot and Seaborn for data visualization\n",
    "    •\twarnings to avoid being distracted by irrelevant messages and focus on your main task\n",
    "    •\tDatetime to convert student age to Year of birth \n",
    "    "
   ]
  },
  {
   "cell_type": "code",
   "execution_count": 46,
   "id": "798b2bdc",
   "metadata": {},
   "outputs": [],
   "source": [
    "import pandas as pd\n",
    "import numpy as np\n",
    "import seaborn as sn\n",
    "%matplotlib inline\n",
    "import matplotlib.pyplot as plt\n",
    "from matplotlib.animation import FuncAnimation\n",
    "from sklearn.model_selection import train_test_split\n",
    "from sklearn.preprocessing import StandardScaler\n",
    "import warnings\n",
    "warnings.filterwarnings('ignore')"
   ]
  },
  {
   "cell_type": "markdown",
   "id": "129b2099",
   "metadata": {},
   "source": [
    "## II. Load the data into the data frame"
   ]
  },
  {
   "cell_type": "code",
   "execution_count": 47,
   "id": "c8ca62ec",
   "metadata": {},
   "outputs": [],
   "source": [
    "df = pd.read_csv(\"Crime_Data_from_2020_to_Present.csv\")"
   ]
  },
  {
   "cell_type": "markdown",
   "id": "b267f5fc",
   "metadata": {},
   "source": [
    "## III. Exploratory Data Analysis \n",
    "    We are going to explore the data to have insights into the data"
   ]
  },
  {
   "cell_type": "markdown",
   "id": "73a54845",
   "metadata": {},
   "source": [
    "   ### 1. To display the top 5 rows"
   ]
  },
  {
   "cell_type": "code",
   "execution_count": 48,
   "id": "566482f8",
   "metadata": {},
   "outputs": [
    {
     "data": {
      "text/html": [
       "<div>\n",
       "<style scoped>\n",
       "    .dataframe tbody tr th:only-of-type {\n",
       "        vertical-align: middle;\n",
       "    }\n",
       "\n",
       "    .dataframe tbody tr th {\n",
       "        vertical-align: top;\n",
       "    }\n",
       "\n",
       "    .dataframe thead th {\n",
       "        text-align: right;\n",
       "    }\n",
       "</style>\n",
       "<table border=\"1\" class=\"dataframe\">\n",
       "  <thead>\n",
       "    <tr style=\"text-align: right;\">\n",
       "      <th></th>\n",
       "      <th>DR_NO</th>\n",
       "      <th>Date Rptd</th>\n",
       "      <th>DATE OCC</th>\n",
       "      <th>TIME OCC</th>\n",
       "      <th>AREA</th>\n",
       "      <th>AREA NAME</th>\n",
       "      <th>Rpt Dist No</th>\n",
       "      <th>Part 1-2</th>\n",
       "      <th>Crm Cd</th>\n",
       "      <th>Crm Cd Desc</th>\n",
       "      <th>...</th>\n",
       "      <th>Status</th>\n",
       "      <th>Status Desc</th>\n",
       "      <th>Crm Cd 1</th>\n",
       "      <th>Crm Cd 2</th>\n",
       "      <th>Crm Cd 3</th>\n",
       "      <th>Crm Cd 4</th>\n",
       "      <th>LOCATION</th>\n",
       "      <th>Cross Street</th>\n",
       "      <th>LAT</th>\n",
       "      <th>LON</th>\n",
       "    </tr>\n",
       "  </thead>\n",
       "  <tbody>\n",
       "    <tr>\n",
       "      <th>0</th>\n",
       "      <td>190326475</td>\n",
       "      <td>03/01/2020 12:00:00 AM</td>\n",
       "      <td>03/01/2020 12:00:00 AM</td>\n",
       "      <td>2130</td>\n",
       "      <td>7</td>\n",
       "      <td>Wilshire</td>\n",
       "      <td>784</td>\n",
       "      <td>1</td>\n",
       "      <td>510</td>\n",
       "      <td>VEHICLE - STOLEN</td>\n",
       "      <td>...</td>\n",
       "      <td>AA</td>\n",
       "      <td>Adult Arrest</td>\n",
       "      <td>510.0</td>\n",
       "      <td>998.0</td>\n",
       "      <td>NaN</td>\n",
       "      <td>NaN</td>\n",
       "      <td>1900 S  LONGWOOD                     AV</td>\n",
       "      <td>NaN</td>\n",
       "      <td>34.0375</td>\n",
       "      <td>-118.3506</td>\n",
       "    </tr>\n",
       "    <tr>\n",
       "      <th>1</th>\n",
       "      <td>200106753</td>\n",
       "      <td>02/09/2020 12:00:00 AM</td>\n",
       "      <td>02/08/2020 12:00:00 AM</td>\n",
       "      <td>1800</td>\n",
       "      <td>1</td>\n",
       "      <td>Central</td>\n",
       "      <td>182</td>\n",
       "      <td>1</td>\n",
       "      <td>330</td>\n",
       "      <td>BURGLARY FROM VEHICLE</td>\n",
       "      <td>...</td>\n",
       "      <td>IC</td>\n",
       "      <td>Invest Cont</td>\n",
       "      <td>330.0</td>\n",
       "      <td>998.0</td>\n",
       "      <td>NaN</td>\n",
       "      <td>NaN</td>\n",
       "      <td>1000 S  FLOWER                       ST</td>\n",
       "      <td>NaN</td>\n",
       "      <td>34.0444</td>\n",
       "      <td>-118.2628</td>\n",
       "    </tr>\n",
       "    <tr>\n",
       "      <th>2</th>\n",
       "      <td>200320258</td>\n",
       "      <td>11/11/2020 12:00:00 AM</td>\n",
       "      <td>11/04/2020 12:00:00 AM</td>\n",
       "      <td>1700</td>\n",
       "      <td>3</td>\n",
       "      <td>Southwest</td>\n",
       "      <td>356</td>\n",
       "      <td>1</td>\n",
       "      <td>480</td>\n",
       "      <td>BIKE - STOLEN</td>\n",
       "      <td>...</td>\n",
       "      <td>IC</td>\n",
       "      <td>Invest Cont</td>\n",
       "      <td>480.0</td>\n",
       "      <td>NaN</td>\n",
       "      <td>NaN</td>\n",
       "      <td>NaN</td>\n",
       "      <td>1400 W  37TH                         ST</td>\n",
       "      <td>NaN</td>\n",
       "      <td>34.0210</td>\n",
       "      <td>-118.3002</td>\n",
       "    </tr>\n",
       "    <tr>\n",
       "      <th>3</th>\n",
       "      <td>200907217</td>\n",
       "      <td>05/10/2023 12:00:00 AM</td>\n",
       "      <td>03/10/2020 12:00:00 AM</td>\n",
       "      <td>2037</td>\n",
       "      <td>9</td>\n",
       "      <td>Van Nuys</td>\n",
       "      <td>964</td>\n",
       "      <td>1</td>\n",
       "      <td>343</td>\n",
       "      <td>SHOPLIFTING-GRAND THEFT ($950.01 &amp; OVER)</td>\n",
       "      <td>...</td>\n",
       "      <td>IC</td>\n",
       "      <td>Invest Cont</td>\n",
       "      <td>343.0</td>\n",
       "      <td>NaN</td>\n",
       "      <td>NaN</td>\n",
       "      <td>NaN</td>\n",
       "      <td>14000    RIVERSIDE                    DR</td>\n",
       "      <td>NaN</td>\n",
       "      <td>34.1576</td>\n",
       "      <td>-118.4387</td>\n",
       "    </tr>\n",
       "    <tr>\n",
       "      <th>4</th>\n",
       "      <td>220614831</td>\n",
       "      <td>08/18/2022 12:00:00 AM</td>\n",
       "      <td>08/17/2020 12:00:00 AM</td>\n",
       "      <td>1200</td>\n",
       "      <td>6</td>\n",
       "      <td>Hollywood</td>\n",
       "      <td>666</td>\n",
       "      <td>2</td>\n",
       "      <td>354</td>\n",
       "      <td>THEFT OF IDENTITY</td>\n",
       "      <td>...</td>\n",
       "      <td>IC</td>\n",
       "      <td>Invest Cont</td>\n",
       "      <td>354.0</td>\n",
       "      <td>NaN</td>\n",
       "      <td>NaN</td>\n",
       "      <td>NaN</td>\n",
       "      <td>1900    TRANSIENT</td>\n",
       "      <td>NaN</td>\n",
       "      <td>34.0944</td>\n",
       "      <td>-118.3277</td>\n",
       "    </tr>\n",
       "  </tbody>\n",
       "</table>\n",
       "<p>5 rows × 28 columns</p>\n",
       "</div>"
      ],
      "text/plain": [
       "       DR_NO               Date Rptd                DATE OCC  TIME OCC  AREA  \\\n",
       "0  190326475  03/01/2020 12:00:00 AM  03/01/2020 12:00:00 AM      2130     7   \n",
       "1  200106753  02/09/2020 12:00:00 AM  02/08/2020 12:00:00 AM      1800     1   \n",
       "2  200320258  11/11/2020 12:00:00 AM  11/04/2020 12:00:00 AM      1700     3   \n",
       "3  200907217  05/10/2023 12:00:00 AM  03/10/2020 12:00:00 AM      2037     9   \n",
       "4  220614831  08/18/2022 12:00:00 AM  08/17/2020 12:00:00 AM      1200     6   \n",
       "\n",
       "   AREA NAME  Rpt Dist No  Part 1-2  Crm Cd  \\\n",
       "0   Wilshire          784         1     510   \n",
       "1    Central          182         1     330   \n",
       "2  Southwest          356         1     480   \n",
       "3   Van Nuys          964         1     343   \n",
       "4  Hollywood          666         2     354   \n",
       "\n",
       "                                Crm Cd Desc  ... Status   Status Desc  \\\n",
       "0                          VEHICLE - STOLEN  ...     AA  Adult Arrest   \n",
       "1                     BURGLARY FROM VEHICLE  ...     IC   Invest Cont   \n",
       "2                             BIKE - STOLEN  ...     IC   Invest Cont   \n",
       "3  SHOPLIFTING-GRAND THEFT ($950.01 & OVER)  ...     IC   Invest Cont   \n",
       "4                         THEFT OF IDENTITY  ...     IC   Invest Cont   \n",
       "\n",
       "  Crm Cd 1 Crm Cd 2  Crm Cd 3 Crm Cd 4  \\\n",
       "0    510.0    998.0       NaN      NaN   \n",
       "1    330.0    998.0       NaN      NaN   \n",
       "2    480.0      NaN       NaN      NaN   \n",
       "3    343.0      NaN       NaN      NaN   \n",
       "4    354.0      NaN       NaN      NaN   \n",
       "\n",
       "                                   LOCATION Cross Street      LAT       LON  \n",
       "0   1900 S  LONGWOOD                     AV          NaN  34.0375 -118.3506  \n",
       "1   1000 S  FLOWER                       ST          NaN  34.0444 -118.2628  \n",
       "2   1400 W  37TH                         ST          NaN  34.0210 -118.3002  \n",
       "3  14000    RIVERSIDE                    DR          NaN  34.1576 -118.4387  \n",
       "4                         1900    TRANSIENT          NaN  34.0944 -118.3277  \n",
       "\n",
       "[5 rows x 28 columns]"
      ]
     },
     "execution_count": 48,
     "metadata": {},
     "output_type": "execute_result"
    }
   ],
   "source": [
    "df.head(5)"
   ]
  },
  {
   "cell_type": "markdown",
   "id": "e607afb2",
   "metadata": {},
   "source": [
    " ### 2. To display the bottom 5 rows"
   ]
  },
  {
   "cell_type": "code",
   "execution_count": 49,
   "id": "947cb417",
   "metadata": {},
   "outputs": [
    {
     "data": {
      "text/html": [
       "<div>\n",
       "<style scoped>\n",
       "    .dataframe tbody tr th:only-of-type {\n",
       "        vertical-align: middle;\n",
       "    }\n",
       "\n",
       "    .dataframe tbody tr th {\n",
       "        vertical-align: top;\n",
       "    }\n",
       "\n",
       "    .dataframe thead th {\n",
       "        text-align: right;\n",
       "    }\n",
       "</style>\n",
       "<table border=\"1\" class=\"dataframe\">\n",
       "  <thead>\n",
       "    <tr style=\"text-align: right;\">\n",
       "      <th></th>\n",
       "      <th>DR_NO</th>\n",
       "      <th>Date Rptd</th>\n",
       "      <th>DATE OCC</th>\n",
       "      <th>TIME OCC</th>\n",
       "      <th>AREA</th>\n",
       "      <th>AREA NAME</th>\n",
       "      <th>Rpt Dist No</th>\n",
       "      <th>Part 1-2</th>\n",
       "      <th>Crm Cd</th>\n",
       "      <th>Crm Cd Desc</th>\n",
       "      <th>...</th>\n",
       "      <th>Status</th>\n",
       "      <th>Status Desc</th>\n",
       "      <th>Crm Cd 1</th>\n",
       "      <th>Crm Cd 2</th>\n",
       "      <th>Crm Cd 3</th>\n",
       "      <th>Crm Cd 4</th>\n",
       "      <th>LOCATION</th>\n",
       "      <th>Cross Street</th>\n",
       "      <th>LAT</th>\n",
       "      <th>LON</th>\n",
       "    </tr>\n",
       "  </thead>\n",
       "  <tbody>\n",
       "    <tr>\n",
       "      <th>925715</th>\n",
       "      <td>241605270</td>\n",
       "      <td>02/11/2024 12:00:00 AM</td>\n",
       "      <td>02/11/2024 12:00:00 AM</td>\n",
       "      <td>1920</td>\n",
       "      <td>16</td>\n",
       "      <td>Foothill</td>\n",
       "      <td>1681</td>\n",
       "      <td>2</td>\n",
       "      <td>888</td>\n",
       "      <td>TRESPASSING</td>\n",
       "      <td>...</td>\n",
       "      <td>AA</td>\n",
       "      <td>Adult Arrest</td>\n",
       "      <td>888.0</td>\n",
       "      <td>NaN</td>\n",
       "      <td>NaN</td>\n",
       "      <td>NaN</td>\n",
       "      <td>8700    SHARP                        AV</td>\n",
       "      <td>NaN</td>\n",
       "      <td>34.2278</td>\n",
       "      <td>-118.4051</td>\n",
       "    </tr>\n",
       "    <tr>\n",
       "      <th>925716</th>\n",
       "      <td>241604405</td>\n",
       "      <td>01/14/2024 12:00:00 AM</td>\n",
       "      <td>01/13/2024 12:00:00 AM</td>\n",
       "      <td>720</td>\n",
       "      <td>16</td>\n",
       "      <td>Foothill</td>\n",
       "      <td>1673</td>\n",
       "      <td>1</td>\n",
       "      <td>230</td>\n",
       "      <td>ASSAULT WITH DEADLY WEAPON, AGGRAVATED ASSAULT</td>\n",
       "      <td>...</td>\n",
       "      <td>IC</td>\n",
       "      <td>Invest Cont</td>\n",
       "      <td>230.0</td>\n",
       "      <td>NaN</td>\n",
       "      <td>NaN</td>\n",
       "      <td>NaN</td>\n",
       "      <td>8700    LANKERSHIM                   BL</td>\n",
       "      <td>NaN</td>\n",
       "      <td>34.2271</td>\n",
       "      <td>-118.3878</td>\n",
       "    </tr>\n",
       "    <tr>\n",
       "      <th>925717</th>\n",
       "      <td>242106032</td>\n",
       "      <td>02/20/2024 12:00:00 AM</td>\n",
       "      <td>02/17/2024 12:00:00 AM</td>\n",
       "      <td>2330</td>\n",
       "      <td>21</td>\n",
       "      <td>Topanga</td>\n",
       "      <td>2103</td>\n",
       "      <td>1</td>\n",
       "      <td>420</td>\n",
       "      <td>THEFT FROM MOTOR VEHICLE - PETTY ($950 &amp; UNDER)</td>\n",
       "      <td>...</td>\n",
       "      <td>IC</td>\n",
       "      <td>Invest Cont</td>\n",
       "      <td>420.0</td>\n",
       "      <td>NaN</td>\n",
       "      <td>NaN</td>\n",
       "      <td>NaN</td>\n",
       "      <td>22700    NAPA                         ST</td>\n",
       "      <td>NaN</td>\n",
       "      <td>34.2260</td>\n",
       "      <td>-118.6214</td>\n",
       "    </tr>\n",
       "    <tr>\n",
       "      <th>925718</th>\n",
       "      <td>242004546</td>\n",
       "      <td>01/16/2024 12:00:00 AM</td>\n",
       "      <td>01/16/2024 12:00:00 AM</td>\n",
       "      <td>1510</td>\n",
       "      <td>20</td>\n",
       "      <td>Olympic</td>\n",
       "      <td>2013</td>\n",
       "      <td>2</td>\n",
       "      <td>624</td>\n",
       "      <td>BATTERY - SIMPLE ASSAULT</td>\n",
       "      <td>...</td>\n",
       "      <td>IC</td>\n",
       "      <td>Invest Cont</td>\n",
       "      <td>624.0</td>\n",
       "      <td>NaN</td>\n",
       "      <td>NaN</td>\n",
       "      <td>NaN</td>\n",
       "      <td>HOBART                       BL</td>\n",
       "      <td>3RD                          ST</td>\n",
       "      <td>34.0690</td>\n",
       "      <td>-118.3054</td>\n",
       "    </tr>\n",
       "    <tr>\n",
       "      <th>925719</th>\n",
       "      <td>240104953</td>\n",
       "      <td>01/15/2024 12:00:00 AM</td>\n",
       "      <td>01/15/2024 12:00:00 AM</td>\n",
       "      <td>100</td>\n",
       "      <td>1</td>\n",
       "      <td>Central</td>\n",
       "      <td>101</td>\n",
       "      <td>2</td>\n",
       "      <td>745</td>\n",
       "      <td>VANDALISM - MISDEAMEANOR ($399 OR UNDER)</td>\n",
       "      <td>...</td>\n",
       "      <td>IC</td>\n",
       "      <td>Invest Cont</td>\n",
       "      <td>745.0</td>\n",
       "      <td>NaN</td>\n",
       "      <td>NaN</td>\n",
       "      <td>NaN</td>\n",
       "      <td>1300 W  SUNSET                       BL</td>\n",
       "      <td>NaN</td>\n",
       "      <td>34.0685</td>\n",
       "      <td>-118.2460</td>\n",
       "    </tr>\n",
       "  </tbody>\n",
       "</table>\n",
       "<p>5 rows × 28 columns</p>\n",
       "</div>"
      ],
      "text/plain": [
       "            DR_NO               Date Rptd                DATE OCC  TIME OCC  \\\n",
       "925715  241605270  02/11/2024 12:00:00 AM  02/11/2024 12:00:00 AM      1920   \n",
       "925716  241604405  01/14/2024 12:00:00 AM  01/13/2024 12:00:00 AM       720   \n",
       "925717  242106032  02/20/2024 12:00:00 AM  02/17/2024 12:00:00 AM      2330   \n",
       "925718  242004546  01/16/2024 12:00:00 AM  01/16/2024 12:00:00 AM      1510   \n",
       "925719  240104953  01/15/2024 12:00:00 AM  01/15/2024 12:00:00 AM       100   \n",
       "\n",
       "        AREA AREA NAME  Rpt Dist No  Part 1-2  Crm Cd  \\\n",
       "925715    16  Foothill         1681         2     888   \n",
       "925716    16  Foothill         1673         1     230   \n",
       "925717    21   Topanga         2103         1     420   \n",
       "925718    20   Olympic         2013         2     624   \n",
       "925719     1   Central          101         2     745   \n",
       "\n",
       "                                            Crm Cd Desc  ... Status  \\\n",
       "925715                                      TRESPASSING  ...     AA   \n",
       "925716   ASSAULT WITH DEADLY WEAPON, AGGRAVATED ASSAULT  ...     IC   \n",
       "925717  THEFT FROM MOTOR VEHICLE - PETTY ($950 & UNDER)  ...     IC   \n",
       "925718                         BATTERY - SIMPLE ASSAULT  ...     IC   \n",
       "925719         VANDALISM - MISDEAMEANOR ($399 OR UNDER)  ...     IC   \n",
       "\n",
       "         Status Desc Crm Cd 1 Crm Cd 2  Crm Cd 3 Crm Cd 4  \\\n",
       "925715  Adult Arrest    888.0      NaN       NaN      NaN   \n",
       "925716   Invest Cont    230.0      NaN       NaN      NaN   \n",
       "925717   Invest Cont    420.0      NaN       NaN      NaN   \n",
       "925718   Invest Cont    624.0      NaN       NaN      NaN   \n",
       "925719   Invest Cont    745.0      NaN       NaN      NaN   \n",
       "\n",
       "                                        LOCATION  \\\n",
       "925715   8700    SHARP                        AV   \n",
       "925716   8700    LANKERSHIM                   BL   \n",
       "925717  22700    NAPA                         ST   \n",
       "925718           HOBART                       BL   \n",
       "925719   1300 W  SUNSET                       BL   \n",
       "\n",
       "                           Cross Street      LAT       LON  \n",
       "925715                              NaN  34.2278 -118.4051  \n",
       "925716                              NaN  34.2271 -118.3878  \n",
       "925717                              NaN  34.2260 -118.6214  \n",
       "925718  3RD                          ST  34.0690 -118.3054  \n",
       "925719                              NaN  34.0685 -118.2460  \n",
       "\n",
       "[5 rows x 28 columns]"
      ]
     },
     "execution_count": 49,
     "metadata": {},
     "output_type": "execute_result"
    }
   ],
   "source": [
    "df.tail(5)"
   ]
  },
  {
   "cell_type": "markdown",
   "id": "8d09ae85-5e2a-4e36-9a6c-e97875bd0f0b",
   "metadata": {},
   "source": [
    " ### 3. Drop variables of no interest to us"
   ]
  },
  {
   "cell_type": "code",
   "execution_count": 50,
   "id": "c7f666f9",
   "metadata": {},
   "outputs": [
    {
     "data": {
      "text/plain": [
       "Index(['DR_NO', 'Date Rptd', 'DATE OCC', 'TIME OCC', 'AREA', 'AREA NAME',\n",
       "       'Rpt Dist No', 'Part 1-2', 'Crm Cd', 'Crm Cd Desc', 'Mocodes',\n",
       "       'Vict Age', 'Vict Sex', 'Vict Descent', 'Premis Cd', 'Premis Desc',\n",
       "       'Weapon Used Cd', 'Weapon Desc', 'Status', 'Status Desc', 'Crm Cd 1',\n",
       "       'Crm Cd 2', 'Crm Cd 3', 'Crm Cd 4', 'LOCATION', 'Cross Street', 'LAT',\n",
       "       'LON'],\n",
       "      dtype='object')"
      ]
     },
     "execution_count": 50,
     "metadata": {},
     "output_type": "execute_result"
    }
   ],
   "source": [
    "df.columns"
   ]
  },
  {
   "cell_type": "code",
   "execution_count": 51,
   "id": "39280705-0514-47bd-856c-673c0e7e5f04",
   "metadata": {},
   "outputs": [],
   "source": [
    "df1 = df.drop(columns=[\"Date Rptd\", \"AREA\", \"AREA NAME\",\"Rpt Dist No\", \"Part 1-2\", \"Crm Cd\", \"Crm Cd 2\", \"Crm Cd 3\", \"Crm Cd 4\",\n",
    "                \"Crm Cd Desc\", \"Mocodes\", \"Premis Cd\", \"Premis Desc\", \"Weapon Used Cd\", \"Weapon Desc\", \"Status\", \"Status Desc\", \"Cross Street\",])"
   ]
  },
  {
   "cell_type": "code",
   "execution_count": 52,
   "id": "83f4c554-e068-4bd2-940f-2a19ee5ecfae",
   "metadata": {},
   "outputs": [
    {
     "data": {
      "text/html": [
       "<div>\n",
       "<style scoped>\n",
       "    .dataframe tbody tr th:only-of-type {\n",
       "        vertical-align: middle;\n",
       "    }\n",
       "\n",
       "    .dataframe tbody tr th {\n",
       "        vertical-align: top;\n",
       "    }\n",
       "\n",
       "    .dataframe thead th {\n",
       "        text-align: right;\n",
       "    }\n",
       "</style>\n",
       "<table border=\"1\" class=\"dataframe\">\n",
       "  <thead>\n",
       "    <tr style=\"text-align: right;\">\n",
       "      <th></th>\n",
       "      <th>DR_NO</th>\n",
       "      <th>DATE OCC</th>\n",
       "      <th>TIME OCC</th>\n",
       "      <th>Vict Age</th>\n",
       "      <th>Vict Sex</th>\n",
       "      <th>Vict Descent</th>\n",
       "      <th>Crm Cd 1</th>\n",
       "      <th>LOCATION</th>\n",
       "      <th>LAT</th>\n",
       "      <th>LON</th>\n",
       "    </tr>\n",
       "  </thead>\n",
       "  <tbody>\n",
       "    <tr>\n",
       "      <th>0</th>\n",
       "      <td>190326475</td>\n",
       "      <td>03/01/2020 12:00:00 AM</td>\n",
       "      <td>2130</td>\n",
       "      <td>0</td>\n",
       "      <td>M</td>\n",
       "      <td>O</td>\n",
       "      <td>510.0</td>\n",
       "      <td>1900 S  LONGWOOD                     AV</td>\n",
       "      <td>34.0375</td>\n",
       "      <td>-118.3506</td>\n",
       "    </tr>\n",
       "    <tr>\n",
       "      <th>1</th>\n",
       "      <td>200106753</td>\n",
       "      <td>02/08/2020 12:00:00 AM</td>\n",
       "      <td>1800</td>\n",
       "      <td>47</td>\n",
       "      <td>M</td>\n",
       "      <td>O</td>\n",
       "      <td>330.0</td>\n",
       "      <td>1000 S  FLOWER                       ST</td>\n",
       "      <td>34.0444</td>\n",
       "      <td>-118.2628</td>\n",
       "    </tr>\n",
       "    <tr>\n",
       "      <th>2</th>\n",
       "      <td>200320258</td>\n",
       "      <td>11/04/2020 12:00:00 AM</td>\n",
       "      <td>1700</td>\n",
       "      <td>19</td>\n",
       "      <td>X</td>\n",
       "      <td>X</td>\n",
       "      <td>480.0</td>\n",
       "      <td>1400 W  37TH                         ST</td>\n",
       "      <td>34.0210</td>\n",
       "      <td>-118.3002</td>\n",
       "    </tr>\n",
       "    <tr>\n",
       "      <th>3</th>\n",
       "      <td>200907217</td>\n",
       "      <td>03/10/2020 12:00:00 AM</td>\n",
       "      <td>2037</td>\n",
       "      <td>19</td>\n",
       "      <td>M</td>\n",
       "      <td>O</td>\n",
       "      <td>343.0</td>\n",
       "      <td>14000    RIVERSIDE                    DR</td>\n",
       "      <td>34.1576</td>\n",
       "      <td>-118.4387</td>\n",
       "    </tr>\n",
       "    <tr>\n",
       "      <th>4</th>\n",
       "      <td>220614831</td>\n",
       "      <td>08/17/2020 12:00:00 AM</td>\n",
       "      <td>1200</td>\n",
       "      <td>28</td>\n",
       "      <td>M</td>\n",
       "      <td>H</td>\n",
       "      <td>354.0</td>\n",
       "      <td>1900    TRANSIENT</td>\n",
       "      <td>34.0944</td>\n",
       "      <td>-118.3277</td>\n",
       "    </tr>\n",
       "  </tbody>\n",
       "</table>\n",
       "</div>"
      ],
      "text/plain": [
       "       DR_NO                DATE OCC  TIME OCC  Vict Age Vict Sex  \\\n",
       "0  190326475  03/01/2020 12:00:00 AM      2130         0        M   \n",
       "1  200106753  02/08/2020 12:00:00 AM      1800        47        M   \n",
       "2  200320258  11/04/2020 12:00:00 AM      1700        19        X   \n",
       "3  200907217  03/10/2020 12:00:00 AM      2037        19        M   \n",
       "4  220614831  08/17/2020 12:00:00 AM      1200        28        M   \n",
       "\n",
       "  Vict Descent  Crm Cd 1                                  LOCATION      LAT  \\\n",
       "0            O     510.0   1900 S  LONGWOOD                     AV  34.0375   \n",
       "1            O     330.0   1000 S  FLOWER                       ST  34.0444   \n",
       "2            X     480.0   1400 W  37TH                         ST  34.0210   \n",
       "3            O     343.0  14000    RIVERSIDE                    DR  34.1576   \n",
       "4            H     354.0                         1900    TRANSIENT  34.0944   \n",
       "\n",
       "        LON  \n",
       "0 -118.3506  \n",
       "1 -118.2628  \n",
       "2 -118.3002  \n",
       "3 -118.4387  \n",
       "4 -118.3277  "
      ]
     },
     "execution_count": 52,
     "metadata": {},
     "output_type": "execute_result"
    }
   ],
   "source": [
    "df1.head(5)"
   ]
  },
  {
   "cell_type": "markdown",
   "id": "0f04b4b6",
   "metadata": {},
   "source": [
    "### 3. Checking the type of data"
   ]
  },
  {
   "cell_type": "code",
   "execution_count": 53,
   "id": "b8246f44",
   "metadata": {},
   "outputs": [
    {
     "data": {
      "text/plain": [
       "DR_NO             int64\n",
       "DATE OCC         object\n",
       "TIME OCC          int64\n",
       "Vict Age          int64\n",
       "Vict Sex         object\n",
       "Vict Descent     object\n",
       "Crm Cd 1        float64\n",
       "LOCATION         object\n",
       "LAT             float64\n",
       "LON             float64\n",
       "dtype: object"
      ]
     },
     "execution_count": 53,
     "metadata": {},
     "output_type": "execute_result"
    }
   ],
   "source": [
    "df1.dtypes"
   ]
  },
  {
   "cell_type": "markdown",
   "id": "3886ce74",
   "metadata": {},
   "source": [
    "## 4. View summary of dataset too"
   ]
  },
  {
   "cell_type": "code",
   "execution_count": 54,
   "id": "7f4f6553",
   "metadata": {},
   "outputs": [
    {
     "name": "stdout",
     "output_type": "stream",
     "text": [
      "<class 'pandas.core.frame.DataFrame'>\n",
      "RangeIndex: 925720 entries, 0 to 925719\n",
      "Data columns (total 10 columns):\n",
      " #   Column        Non-Null Count   Dtype  \n",
      "---  ------        --------------   -----  \n",
      " 0   DR_NO         925720 non-null  int64  \n",
      " 1   DATE OCC      925720 non-null  object \n",
      " 2   TIME OCC      925720 non-null  int64  \n",
      " 3   Vict Age      925720 non-null  int64  \n",
      " 4   Vict Sex      802562 non-null  object \n",
      " 5   Vict Descent  802552 non-null  object \n",
      " 6   Crm Cd 1      925709 non-null  float64\n",
      " 7   LOCATION      925720 non-null  object \n",
      " 8   LAT           925720 non-null  float64\n",
      " 9   LON           925720 non-null  float64\n",
      "dtypes: float64(3), int64(3), object(4)\n",
      "memory usage: 70.6+ MB\n"
     ]
    }
   ],
   "source": [
    "df1.info()"
   ]
  },
  {
   "cell_type": "markdown",
   "id": "1889ee59-0a2e-43b7-942e-a09f353f2fd3",
   "metadata": {},
   "source": [
    "#### - Convert 'DATE OCC' type objet to datetime type and keep only the date"
   ]
  },
  {
   "cell_type": "code",
   "execution_count": 55,
   "id": "52613531-341b-4679-9c92-e77ae5a0d40c",
   "metadata": {},
   "outputs": [],
   "source": [
    "df1['DATE OCC'] = pd.to_datetime(df1['DATE OCC'])"
   ]
  },
  {
   "cell_type": "code",
   "execution_count": 56,
   "id": "0591805e-c6a1-4129-82d2-f0cae970a06a",
   "metadata": {},
   "outputs": [],
   "source": [
    "df1['DATE OCC'] = df1['DATE OCC'].dt.date"
   ]
  },
  {
   "cell_type": "code",
   "execution_count": 57,
   "id": "0418db2b-02ee-4d71-9098-c56e5f16b2fb",
   "metadata": {},
   "outputs": [
    {
     "name": "stdout",
     "output_type": "stream",
     "text": [
      "0    2020-03-01\n",
      "1    2020-02-08\n",
      "2    2020-11-04\n",
      "3    2020-03-10\n",
      "4    2020-08-17\n",
      "5    2020-12-01\n",
      "6    2020-07-03\n",
      "7    2020-05-12\n",
      "8    2020-12-09\n",
      "9    2020-12-31\n",
      "Name: DATE OCC, dtype: object\n"
     ]
    }
   ],
   "source": [
    "print(df1['DATE OCC'].head(10))"
   ]
  },
  {
   "cell_type": "markdown",
   "id": "93ae006b-99cf-4b83-b135-9fc542c90469",
   "metadata": {},
   "source": [
    "#### - Convert 'TIME OCC' type int64 to datetime type and keep only the time"
   ]
  },
  {
   "cell_type": "markdown",
   "id": "cbdd2aba-aba9-434b-9f3d-f4d3b3ed1d0a",
   "metadata": {},
   "source": [
    "The values in the 'TIME OCC' column are stored as integers representing hours and minutes in 24-hour format, so we'll convert them to datetime type."
   ]
  },
  {
   "cell_type": "code",
   "execution_count": 58,
   "id": "e7e2f2d6-d95d-4bce-87f8-a842ab7c9da0",
   "metadata": {},
   "outputs": [],
   "source": [
    "# Convert 'TIME OCC' column to str type for easier handling\n",
    "\n",
    "df1['TIME OCC'] = df1['TIME OCC'].astype(str)"
   ]
  },
  {
   "cell_type": "code",
   "execution_count": 59,
   "id": "3478a066-6758-45af-9262-5fbe7081e621",
   "metadata": {},
   "outputs": [],
   "source": [
    "# Add a zero on the left if necessary to ensure that each value has at least 4 digits\n",
    "\n",
    "df1['TIME OCC'] = df1['TIME OCC'].str.zfill(4)"
   ]
  },
  {
   "cell_type": "code",
   "execution_count": 60,
   "id": "0aca6c69-b5c2-4102-9512-2d5bc295bf96",
   "metadata": {},
   "outputs": [],
   "source": [
    "# Add a separator between hours and minutes\n",
    "\n",
    "df1['TIME OCC'] = df1['TIME OCC'].str.slice(0, 2) + ':' + df1['TIME OCC'].str.slice(2, 4)"
   ]
  },
  {
   "cell_type": "code",
   "execution_count": 61,
   "id": "98348f31-107a-418e-8657-1a6822d299fb",
   "metadata": {},
   "outputs": [
    {
     "name": "stdout",
     "output_type": "stream",
     "text": [
      "0    21:30\n",
      "1    18:00\n",
      "2    17:00\n",
      "3    20:37\n",
      "4    12:00\n",
      "Name: TIME OCC, dtype: object\n"
     ]
    }
   ],
   "source": [
    "print(df1['TIME OCC'].head(5))"
   ]
  },
  {
   "cell_type": "code",
   "execution_count": 62,
   "id": "43153507-1a06-48d5-94d2-36856398504a",
   "metadata": {},
   "outputs": [
    {
     "name": "stdout",
     "output_type": "stream",
     "text": [
      "925715    19:20\n",
      "925716    07:20\n",
      "925717    23:30\n",
      "925718    15:10\n",
      "925719    01:00\n",
      "Name: TIME OCC, dtype: object\n"
     ]
    }
   ],
   "source": [
    "print(df1['TIME OCC'].tail(5))"
   ]
  },
  {
   "cell_type": "code",
   "execution_count": 63,
   "id": "48bc562f",
   "metadata": {},
   "outputs": [
    {
     "data": {
      "text/plain": [
       "(925720, 10)"
      ]
     },
     "execution_count": 63,
     "metadata": {},
     "output_type": "execute_result"
    }
   ],
   "source": [
    "df1.shape"
   ]
  },
  {
   "cell_type": "code",
   "execution_count": 64,
   "id": "188c38c4",
   "metadata": {},
   "outputs": [
    {
     "data": {
      "text/plain": [
       "DR_NO                0\n",
       "DATE OCC             0\n",
       "TIME OCC             0\n",
       "Vict Age             0\n",
       "Vict Sex        123158\n",
       "Vict Descent    123168\n",
       "Crm Cd 1            11\n",
       "LOCATION             0\n",
       "LAT                  0\n",
       "LON                  0\n",
       "dtype: int64"
      ]
     },
     "execution_count": 64,
     "metadata": {},
     "output_type": "execute_result"
    }
   ],
   "source": [
    "df1.isnull().sum()"
   ]
  },
  {
   "cell_type": "code",
   "execution_count": 65,
   "id": "30106efb",
   "metadata": {},
   "outputs": [
    {
     "name": "stdout",
     "output_type": "stream",
     "text": [
      "number of duplicate rows:  (0, 10)\n"
     ]
    }
   ],
   "source": [
    "duplicate_rows_df1 = df1[df1.duplicated()]\n",
    "print(\"number of duplicate rows: \", duplicate_rows_df1.shape)"
   ]
  },
  {
   "cell_type": "markdown",
   "id": "aab8a3f9-8727-4623-8ea3-c5a42b0a4f34",
   "metadata": {},
   "source": [
    "## Rename columns"
   ]
  },
  {
   "cell_type": "code",
   "execution_count": 66,
   "id": "a08a949a-4d06-4b86-8f57-526afd196657",
   "metadata": {},
   "outputs": [],
   "source": [
    "df1.rename(columns = {'DR_NO':'Division of Records', 'DATE OCC':'Crime date', 'TIME OCC':'Crime time', 'Vict Descent':'Race', 'Crm Cd 1':'Crime Com'}, inplace =True)"
   ]
  },
  {
   "cell_type": "code",
   "execution_count": 67,
   "id": "6f4f8ffa-69a5-4380-99cb-6633f563a856",
   "metadata": {},
   "outputs": [
    {
     "data": {
      "text/html": [
       "<div>\n",
       "<style scoped>\n",
       "    .dataframe tbody tr th:only-of-type {\n",
       "        vertical-align: middle;\n",
       "    }\n",
       "\n",
       "    .dataframe tbody tr th {\n",
       "        vertical-align: top;\n",
       "    }\n",
       "\n",
       "    .dataframe thead th {\n",
       "        text-align: right;\n",
       "    }\n",
       "</style>\n",
       "<table border=\"1\" class=\"dataframe\">\n",
       "  <thead>\n",
       "    <tr style=\"text-align: right;\">\n",
       "      <th></th>\n",
       "      <th>Division of Records</th>\n",
       "      <th>Crime date</th>\n",
       "      <th>Crime time</th>\n",
       "      <th>Vict Age</th>\n",
       "      <th>Vict Sex</th>\n",
       "      <th>Race</th>\n",
       "      <th>Crime Com</th>\n",
       "      <th>LOCATION</th>\n",
       "      <th>LAT</th>\n",
       "      <th>LON</th>\n",
       "    </tr>\n",
       "  </thead>\n",
       "  <tbody>\n",
       "    <tr>\n",
       "      <th>0</th>\n",
       "      <td>190326475</td>\n",
       "      <td>2020-03-01</td>\n",
       "      <td>21:30</td>\n",
       "      <td>0</td>\n",
       "      <td>M</td>\n",
       "      <td>O</td>\n",
       "      <td>510.0</td>\n",
       "      <td>1900 S  LONGWOOD                     AV</td>\n",
       "      <td>34.0375</td>\n",
       "      <td>-118.3506</td>\n",
       "    </tr>\n",
       "    <tr>\n",
       "      <th>1</th>\n",
       "      <td>200106753</td>\n",
       "      <td>2020-02-08</td>\n",
       "      <td>18:00</td>\n",
       "      <td>47</td>\n",
       "      <td>M</td>\n",
       "      <td>O</td>\n",
       "      <td>330.0</td>\n",
       "      <td>1000 S  FLOWER                       ST</td>\n",
       "      <td>34.0444</td>\n",
       "      <td>-118.2628</td>\n",
       "    </tr>\n",
       "    <tr>\n",
       "      <th>2</th>\n",
       "      <td>200320258</td>\n",
       "      <td>2020-11-04</td>\n",
       "      <td>17:00</td>\n",
       "      <td>19</td>\n",
       "      <td>X</td>\n",
       "      <td>X</td>\n",
       "      <td>480.0</td>\n",
       "      <td>1400 W  37TH                         ST</td>\n",
       "      <td>34.0210</td>\n",
       "      <td>-118.3002</td>\n",
       "    </tr>\n",
       "    <tr>\n",
       "      <th>3</th>\n",
       "      <td>200907217</td>\n",
       "      <td>2020-03-10</td>\n",
       "      <td>20:37</td>\n",
       "      <td>19</td>\n",
       "      <td>M</td>\n",
       "      <td>O</td>\n",
       "      <td>343.0</td>\n",
       "      <td>14000    RIVERSIDE                    DR</td>\n",
       "      <td>34.1576</td>\n",
       "      <td>-118.4387</td>\n",
       "    </tr>\n",
       "    <tr>\n",
       "      <th>4</th>\n",
       "      <td>220614831</td>\n",
       "      <td>2020-08-17</td>\n",
       "      <td>12:00</td>\n",
       "      <td>28</td>\n",
       "      <td>M</td>\n",
       "      <td>H</td>\n",
       "      <td>354.0</td>\n",
       "      <td>1900    TRANSIENT</td>\n",
       "      <td>34.0944</td>\n",
       "      <td>-118.3277</td>\n",
       "    </tr>\n",
       "    <tr>\n",
       "      <th>...</th>\n",
       "      <td>...</td>\n",
       "      <td>...</td>\n",
       "      <td>...</td>\n",
       "      <td>...</td>\n",
       "      <td>...</td>\n",
       "      <td>...</td>\n",
       "      <td>...</td>\n",
       "      <td>...</td>\n",
       "      <td>...</td>\n",
       "      <td>...</td>\n",
       "    </tr>\n",
       "    <tr>\n",
       "      <th>925715</th>\n",
       "      <td>241605270</td>\n",
       "      <td>2024-02-11</td>\n",
       "      <td>19:20</td>\n",
       "      <td>79</td>\n",
       "      <td>M</td>\n",
       "      <td>O</td>\n",
       "      <td>888.0</td>\n",
       "      <td>8700    SHARP                        AV</td>\n",
       "      <td>34.2278</td>\n",
       "      <td>-118.4051</td>\n",
       "    </tr>\n",
       "    <tr>\n",
       "      <th>925716</th>\n",
       "      <td>241604405</td>\n",
       "      <td>2024-01-13</td>\n",
       "      <td>07:20</td>\n",
       "      <td>36</td>\n",
       "      <td>M</td>\n",
       "      <td>H</td>\n",
       "      <td>230.0</td>\n",
       "      <td>8700    LANKERSHIM                   BL</td>\n",
       "      <td>34.2271</td>\n",
       "      <td>-118.3878</td>\n",
       "    </tr>\n",
       "    <tr>\n",
       "      <th>925717</th>\n",
       "      <td>242106032</td>\n",
       "      <td>2024-02-17</td>\n",
       "      <td>23:30</td>\n",
       "      <td>44</td>\n",
       "      <td>F</td>\n",
       "      <td>O</td>\n",
       "      <td>420.0</td>\n",
       "      <td>22700    NAPA                         ST</td>\n",
       "      <td>34.2260</td>\n",
       "      <td>-118.6214</td>\n",
       "    </tr>\n",
       "    <tr>\n",
       "      <th>925718</th>\n",
       "      <td>242004546</td>\n",
       "      <td>2024-01-16</td>\n",
       "      <td>15:10</td>\n",
       "      <td>80</td>\n",
       "      <td>F</td>\n",
       "      <td>O</td>\n",
       "      <td>624.0</td>\n",
       "      <td>HOBART                       BL</td>\n",
       "      <td>34.0690</td>\n",
       "      <td>-118.3054</td>\n",
       "    </tr>\n",
       "    <tr>\n",
       "      <th>925719</th>\n",
       "      <td>240104953</td>\n",
       "      <td>2024-01-15</td>\n",
       "      <td>01:00</td>\n",
       "      <td>0</td>\n",
       "      <td>X</td>\n",
       "      <td>X</td>\n",
       "      <td>745.0</td>\n",
       "      <td>1300 W  SUNSET                       BL</td>\n",
       "      <td>34.0685</td>\n",
       "      <td>-118.2460</td>\n",
       "    </tr>\n",
       "  </tbody>\n",
       "</table>\n",
       "<p>925720 rows × 10 columns</p>\n",
       "</div>"
      ],
      "text/plain": [
       "        Division of Records  Crime date Crime time  Vict Age Vict Sex Race  \\\n",
       "0                 190326475  2020-03-01      21:30         0        M    O   \n",
       "1                 200106753  2020-02-08      18:00        47        M    O   \n",
       "2                 200320258  2020-11-04      17:00        19        X    X   \n",
       "3                 200907217  2020-03-10      20:37        19        M    O   \n",
       "4                 220614831  2020-08-17      12:00        28        M    H   \n",
       "...                     ...         ...        ...       ...      ...  ...   \n",
       "925715            241605270  2024-02-11      19:20        79        M    O   \n",
       "925716            241604405  2024-01-13      07:20        36        M    H   \n",
       "925717            242106032  2024-02-17      23:30        44        F    O   \n",
       "925718            242004546  2024-01-16      15:10        80        F    O   \n",
       "925719            240104953  2024-01-15      01:00         0        X    X   \n",
       "\n",
       "        Crime Com                                  LOCATION      LAT       LON  \n",
       "0           510.0   1900 S  LONGWOOD                     AV  34.0375 -118.3506  \n",
       "1           330.0   1000 S  FLOWER                       ST  34.0444 -118.2628  \n",
       "2           480.0   1400 W  37TH                         ST  34.0210 -118.3002  \n",
       "3           343.0  14000    RIVERSIDE                    DR  34.1576 -118.4387  \n",
       "4           354.0                         1900    TRANSIENT  34.0944 -118.3277  \n",
       "...           ...                                       ...      ...       ...  \n",
       "925715      888.0   8700    SHARP                        AV  34.2278 -118.4051  \n",
       "925716      230.0   8700    LANKERSHIM                   BL  34.2271 -118.3878  \n",
       "925717      420.0  22700    NAPA                         ST  34.2260 -118.6214  \n",
       "925718      624.0           HOBART                       BL  34.0690 -118.3054  \n",
       "925719      745.0   1300 W  SUNSET                       BL  34.0685 -118.2460  \n",
       "\n",
       "[925720 rows x 10 columns]"
      ]
     },
     "execution_count": 67,
     "metadata": {},
     "output_type": "execute_result"
    }
   ],
   "source": [
    "df1"
   ]
  },
  {
   "cell_type": "markdown",
   "id": "5cb576a2-52c3-40f0-903b-0f91b779d4e8",
   "metadata": {},
   "source": [
    "## Check the missing values"
   ]
  },
  {
   "cell_type": "code",
   "execution_count": 68,
   "id": "2bc18f7d-63dc-4d2d-a59f-47bb3d7b726b",
   "metadata": {},
   "outputs": [
    {
     "data": {
      "text/plain": [
       "Division of Records         0\n",
       "Crime date                  0\n",
       "Crime time                  0\n",
       "Vict Age                    0\n",
       "Vict Sex               123158\n",
       "Race                   123168\n",
       "Crime Com                  11\n",
       "LOCATION                    0\n",
       "LAT                         0\n",
       "LON                         0\n",
       "dtype: int64"
      ]
     },
     "execution_count": 68,
     "metadata": {},
     "output_type": "execute_result"
    }
   ],
   "source": [
    "df1.isnull().sum()"
   ]
  },
  {
   "cell_type": "markdown",
   "id": "8d9d7fe7-61d7-4911-8b18-ff8efe5283d5",
   "metadata": {},
   "source": [
    "#### - Missing values in the variable 'Vict Sex'"
   ]
  },
  {
   "cell_type": "code",
   "execution_count": 69,
   "id": "72f02d6e-35a9-4a7b-a245-8aa6088e3841",
   "metadata": {},
   "outputs": [],
   "source": [
    "unique_values = df1['Vict Sex'].unique()"
   ]
  },
  {
   "cell_type": "code",
   "execution_count": 70,
   "id": "101d045f-aad4-46b4-9a1f-2696a49e458e",
   "metadata": {},
   "outputs": [
    {
     "name": "stdout",
     "output_type": "stream",
     "text": [
      "['M' 'X' 'F' nan 'H' '-']\n"
     ]
    }
   ],
   "source": [
    "print(unique_values)"
   ]
  },
  {
   "cell_type": "code",
   "execution_count": 71,
   "id": "ba07022a-c44c-4011-9d90-58667c699bc1",
   "metadata": {},
   "outputs": [
    {
     "name": "stdout",
     "output_type": "stream",
     "text": [
      "Vict Sex\n",
      "M      379033\n",
      "F      337982\n",
      "NaN    123158\n",
      "X       85440\n",
      "H         106\n",
      "-           1\n",
      "Name: count, dtype: int64\n"
     ]
    }
   ],
   "source": [
    "counting = df1['Vict Sex'].value_counts(dropna=False)\n",
    "print(counting)"
   ]
  },
  {
   "cell_type": "markdown",
   "id": "da62401b-ecba-4d0b-b32f-051117fa1def",
   "metadata": {},
   "source": [
    "#### - Missing values in the variable 'Vict Descent'"
   ]
  },
  {
   "cell_type": "code",
   "execution_count": 72,
   "id": "563ebf2f-829f-4098-9e1b-3fc6a4926f89",
   "metadata": {},
   "outputs": [
    {
     "name": "stdout",
     "output_type": "stream",
     "text": [
      "['O' 'X' 'H' 'B' 'W' nan 'A' 'C' 'K' 'J' 'F' 'I' 'V' 'S' 'P' 'Z' 'G' 'U'\n",
      " 'D' 'L' '-']\n"
     ]
    }
   ],
   "source": [
    "unique_valuess = df1['Race'].unique()\n",
    "print(unique_valuess)"
   ]
  },
  {
   "cell_type": "code",
   "execution_count": 73,
   "id": "72a19efd-f4a1-40f5-aa7d-dec086a80b5a",
   "metadata": {},
   "outputs": [
    {
     "name": "stdout",
     "output_type": "stream",
     "text": [
      "Race\n",
      "H      281383\n",
      "W      187081\n",
      "B      129712\n",
      "NaN    123168\n",
      "X       93926\n",
      "O       73011\n",
      "A       20311\n",
      "K        5085\n",
      "F        4002\n",
      "C        3712\n",
      "J        1305\n",
      "V         987\n",
      "I         882\n",
      "Z         458\n",
      "P         250\n",
      "U         190\n",
      "D          75\n",
      "G          67\n",
      "L          63\n",
      "S          50\n",
      "-           2\n",
      "Name: count, dtype: int64\n"
     ]
    }
   ],
   "source": [
    "count = df1['Race'].value_counts(dropna=False)\n",
    "print(count)"
   ]
  },
  {
   "cell_type": "markdown",
   "id": "835a2e4b-bf04-4809-920b-b0108409a038",
   "metadata": {},
   "source": [
    "#### - Missing values in the variable 'Crime Com'"
   ]
  },
  {
   "cell_type": "code",
   "execution_count": 74,
   "id": "41b26dc6-6ac2-4334-b310-2e80ffd33d63",
   "metadata": {},
   "outputs": [
    {
     "name": "stdout",
     "output_type": "stream",
     "text": [
      "[510. 330. 480. 343. 354. 624. 812. 810. 230. 956. 341. 930. 668. 420.\n",
      " 813. 310. 903. 440. 626. 762. 441. 331. 946. 210. 662. 860. 236. 661.\n",
      " 901. 442. 740. 761. 649. 845. 121. 745. 627. 653. 821. 928. 815. 940.\n",
      " 625. 352. 648. 886. 666. 921. 932. 900. 820. 439. 760. 954. 434. 235.\n",
      " 220. 654. 922. 670. 850. 237. 763. 345. 888. 320. 122. 753. 805. 822.\n",
      " 520. 806. 906. 437. 410. 350. 623. 522. 450. 890. 755. 231. 664. 251.\n",
      " 951. 920. 250. 470. 902. 647. 651. 910. 110. 351. 421. 444. 814. 756.\n",
      " 433. 931. 435. 438. 443. 660. 950. 622. 943. 487.  nan 949. 933. 865.\n",
      " 474. 652. 113. 446. 475. 471. 451. 436. 521. 485. 349. 944. 942. 347.\n",
      " 353. 430. 870. 473. 880. 452. 924. 840. 948. 884. 904. 830. 432. 882.\n",
      " 445. 926.]\n"
     ]
    }
   ],
   "source": [
    "unique_val = df1['Crime Com'].unique()\n",
    "print(unique_val)"
   ]
  },
  {
   "cell_type": "code",
   "execution_count": 75,
   "id": "4d6444fc-44c8-49c8-8acd-ef52fcd351a2",
   "metadata": {},
   "outputs": [
    {
     "name": "stdout",
     "output_type": "stream",
     "text": [
      "Crime Com\n",
      "510.0    99433\n",
      "624.0    73704\n",
      "330.0    57149\n",
      "354.0    57093\n",
      "310.0    56738\n",
      "         ...  \n",
      "904.0        5\n",
      "830.0        5\n",
      "430.0        4\n",
      "445.0        2\n",
      "926.0        1\n",
      "Name: count, Length: 142, dtype: int64\n"
     ]
    }
   ],
   "source": [
    "countc = df1['Crime Com'].value_counts(dropna=False)\n",
    "print(countc)"
   ]
  },
  {
   "cell_type": "markdown",
   "id": "b9fe5a98-6568-4fe3-a9aa-68973d85db4e",
   "metadata": {},
   "source": [
    "#### - We are going to replace the missing values by Unknow 'X' for 'Vict Sex', 'Vict Descent' and '510.0' for 'Crim Com'"
   ]
  },
  {
   "cell_type": "code",
   "execution_count": 76,
   "id": "3005d845-1525-4b77-a8ac-de3c09c4bed8",
   "metadata": {},
   "outputs": [
    {
     "name": "stdout",
     "output_type": "stream",
     "text": [
      "        Division of Records  Crime date Crime time  Vict Age Vict Sex Race  \\\n",
      "0                 190326475  2020-03-01      21:30         0        M    O   \n",
      "1                 200106753  2020-02-08      18:00        47        M    O   \n",
      "2                 200320258  2020-11-04      17:00        19        X    X   \n",
      "3                 200907217  2020-03-10      20:37        19        M    O   \n",
      "4                 220614831  2020-08-17      12:00        28        M    H   \n",
      "...                     ...         ...        ...       ...      ...  ...   \n",
      "925715            241605270  2024-02-11      19:20        79        M    O   \n",
      "925716            241604405  2024-01-13      07:20        36        M    H   \n",
      "925717            242106032  2024-02-17      23:30        44        F    O   \n",
      "925718            242004546  2024-01-16      15:10        80        F    O   \n",
      "925719            240104953  2024-01-15      01:00         0        X    X   \n",
      "\n",
      "       Crime Com                                  LOCATION      LAT       LON  \n",
      "0          510.0   1900 S  LONGWOOD                     AV  34.0375 -118.3506  \n",
      "1          330.0   1000 S  FLOWER                       ST  34.0444 -118.2628  \n",
      "2          480.0   1400 W  37TH                         ST  34.0210 -118.3002  \n",
      "3          343.0  14000    RIVERSIDE                    DR  34.1576 -118.4387  \n",
      "4          354.0                         1900    TRANSIENT  34.0944 -118.3277  \n",
      "...          ...                                       ...      ...       ...  \n",
      "925715     888.0   8700    SHARP                        AV  34.2278 -118.4051  \n",
      "925716     230.0   8700    LANKERSHIM                   BL  34.2271 -118.3878  \n",
      "925717     420.0  22700    NAPA                         ST  34.2260 -118.6214  \n",
      "925718     624.0           HOBART                       BL  34.0690 -118.3054  \n",
      "925719     745.0   1300 W  SUNSET                       BL  34.0685 -118.2460  \n",
      "\n",
      "[925720 rows x 10 columns]\n"
     ]
    }
   ],
   "source": [
    "replacement = {'Vict Sex': 'X', 'Race': 'X', 'Crime Com' : '510.0'}\n",
    "df2 = df1.fillna(replacement)\n",
    "print(df2)"
   ]
  },
  {
   "cell_type": "code",
   "execution_count": 77,
   "id": "98cb0f09-50c7-4557-a7a7-bebe7c140ea3",
   "metadata": {},
   "outputs": [
    {
     "data": {
      "text/plain": [
       "Division of Records    0\n",
       "Crime date             0\n",
       "Crime time             0\n",
       "Vict Age               0\n",
       "Vict Sex               0\n",
       "Race                   0\n",
       "Crime Com              0\n",
       "LOCATION               0\n",
       "LAT                    0\n",
       "LON                    0\n",
       "dtype: int64"
      ]
     },
     "execution_count": 77,
     "metadata": {},
     "output_type": "execute_result"
    }
   ],
   "source": [
    "df2.isnull().sum()"
   ]
  },
  {
   "cell_type": "code",
   "execution_count": 78,
   "id": "0e209a4b-c8c2-4f24-b89a-dffc54e307ea",
   "metadata": {},
   "outputs": [
    {
     "data": {
      "text/plain": [
       "Division of Records    925720\n",
       "Crime date             925720\n",
       "Crime time             925720\n",
       "Vict Age               925720\n",
       "Vict Sex               925720\n",
       "Race                   925720\n",
       "Crime Com              925720\n",
       "LOCATION               925720\n",
       "LAT                    925720\n",
       "LON                    925720\n",
       "dtype: int64"
      ]
     },
     "execution_count": 78,
     "metadata": {},
     "output_type": "execute_result"
    }
   ],
   "source": [
    "df2.count()"
   ]
  },
  {
   "cell_type": "markdown",
   "id": "3cd8a20e-95eb-458a-8f83-847254e9ec97",
   "metadata": {},
   "source": [
    "#### *Observation*\n",
    "- No missing values anymore in our dataFrame"
   ]
  },
  {
   "cell_type": "code",
   "execution_count": 79,
   "id": "8a1cd58f-e440-463b-8986-bae878ebd0e0",
   "metadata": {},
   "outputs": [
    {
     "data": {
      "text/html": [
       "<div>\n",
       "<style scoped>\n",
       "    .dataframe tbody tr th:only-of-type {\n",
       "        vertical-align: middle;\n",
       "    }\n",
       "\n",
       "    .dataframe tbody tr th {\n",
       "        vertical-align: top;\n",
       "    }\n",
       "\n",
       "    .dataframe thead th {\n",
       "        text-align: right;\n",
       "    }\n",
       "</style>\n",
       "<table border=\"1\" class=\"dataframe\">\n",
       "  <thead>\n",
       "    <tr style=\"text-align: right;\">\n",
       "      <th></th>\n",
       "      <th>Division of Records</th>\n",
       "      <th>Crime date</th>\n",
       "      <th>Crime time</th>\n",
       "      <th>Vict Age</th>\n",
       "      <th>Vict Sex</th>\n",
       "      <th>Race</th>\n",
       "      <th>Crime Com</th>\n",
       "      <th>LOCATION</th>\n",
       "      <th>LAT</th>\n",
       "      <th>LON</th>\n",
       "    </tr>\n",
       "  </thead>\n",
       "  <tbody>\n",
       "    <tr>\n",
       "      <th>0</th>\n",
       "      <td>190326475</td>\n",
       "      <td>2020-03-01</td>\n",
       "      <td>21:30</td>\n",
       "      <td>0</td>\n",
       "      <td>M</td>\n",
       "      <td>O</td>\n",
       "      <td>510.0</td>\n",
       "      <td>1900 S  LONGWOOD                     AV</td>\n",
       "      <td>34.0375</td>\n",
       "      <td>-118.3506</td>\n",
       "    </tr>\n",
       "    <tr>\n",
       "      <th>1</th>\n",
       "      <td>200106753</td>\n",
       "      <td>2020-02-08</td>\n",
       "      <td>18:00</td>\n",
       "      <td>47</td>\n",
       "      <td>M</td>\n",
       "      <td>O</td>\n",
       "      <td>330.0</td>\n",
       "      <td>1000 S  FLOWER                       ST</td>\n",
       "      <td>34.0444</td>\n",
       "      <td>-118.2628</td>\n",
       "    </tr>\n",
       "    <tr>\n",
       "      <th>2</th>\n",
       "      <td>200320258</td>\n",
       "      <td>2020-11-04</td>\n",
       "      <td>17:00</td>\n",
       "      <td>19</td>\n",
       "      <td>X</td>\n",
       "      <td>X</td>\n",
       "      <td>480.0</td>\n",
       "      <td>1400 W  37TH                         ST</td>\n",
       "      <td>34.0210</td>\n",
       "      <td>-118.3002</td>\n",
       "    </tr>\n",
       "    <tr>\n",
       "      <th>3</th>\n",
       "      <td>200907217</td>\n",
       "      <td>2020-03-10</td>\n",
       "      <td>20:37</td>\n",
       "      <td>19</td>\n",
       "      <td>M</td>\n",
       "      <td>O</td>\n",
       "      <td>343.0</td>\n",
       "      <td>14000    RIVERSIDE                    DR</td>\n",
       "      <td>34.1576</td>\n",
       "      <td>-118.4387</td>\n",
       "    </tr>\n",
       "    <tr>\n",
       "      <th>4</th>\n",
       "      <td>220614831</td>\n",
       "      <td>2020-08-17</td>\n",
       "      <td>12:00</td>\n",
       "      <td>28</td>\n",
       "      <td>M</td>\n",
       "      <td>H</td>\n",
       "      <td>354.0</td>\n",
       "      <td>1900    TRANSIENT</td>\n",
       "      <td>34.0944</td>\n",
       "      <td>-118.3277</td>\n",
       "    </tr>\n",
       "  </tbody>\n",
       "</table>\n",
       "</div>"
      ],
      "text/plain": [
       "   Division of Records  Crime date Crime time  Vict Age Vict Sex Race  \\\n",
       "0            190326475  2020-03-01      21:30         0        M    O   \n",
       "1            200106753  2020-02-08      18:00        47        M    O   \n",
       "2            200320258  2020-11-04      17:00        19        X    X   \n",
       "3            200907217  2020-03-10      20:37        19        M    O   \n",
       "4            220614831  2020-08-17      12:00        28        M    H   \n",
       "\n",
       "  Crime Com                                  LOCATION      LAT       LON  \n",
       "0     510.0   1900 S  LONGWOOD                     AV  34.0375 -118.3506  \n",
       "1     330.0   1000 S  FLOWER                       ST  34.0444 -118.2628  \n",
       "2     480.0   1400 W  37TH                         ST  34.0210 -118.3002  \n",
       "3     343.0  14000    RIVERSIDE                    DR  34.1576 -118.4387  \n",
       "4     354.0                         1900    TRANSIENT  34.0944 -118.3277  "
      ]
     },
     "execution_count": 79,
     "metadata": {},
     "output_type": "execute_result"
    }
   ],
   "source": [
    "df2.head(5)"
   ]
  },
  {
   "cell_type": "code",
   "execution_count": 121,
   "id": "34a2f0e6-20a2-4199-88c1-dcad0bf06c5b",
   "metadata": {},
   "outputs": [
    {
     "name": "stdout",
     "output_type": "stream",
     "text": [
      "Vict Age\n",
      "31    254297\n",
      "30     20914\n",
      "35     20519\n",
      "29     19947\n",
      "28     19665\n",
      "       ...  \n",
      "94       101\n",
      "95        94\n",
      "96        92\n",
      "97        69\n",
      "98        69\n",
      "Name: count, Length: 98, dtype: int64\n"
     ]
    }
   ],
   "source": [
    "counting = df2['Vict Age'].value_counts(dropna=False)\n",
    "print(counting)"
   ]
  },
  {
   "cell_type": "markdown",
   "id": "e2bf7bc5-144a-4a37-b586-2db5bd3330e5",
   "metadata": {},
   "source": [
    "#### *Observation*\n",
    " - The age value is problematic in some places: as age negative, equal = zero, etc. We will use Descriptive statistics to have insight into data.\n",
    " - We have a single victim aged 120. We are going to remove it because it's rare or exceptional.\n",
    "    "
   ]
  },
  {
   "cell_type": "code",
   "execution_count": 124,
   "id": "cf37df2f-76bd-4a76-9106-cf104c0d913e",
   "metadata": {},
   "outputs": [
    {
     "name": "stdout",
     "output_type": "stream",
     "text": [
      "Vict Age\n",
      "31    254297\n",
      "30     20914\n",
      "35     20519\n",
      "29     19947\n",
      "28     19665\n",
      "       ...  \n",
      "94       101\n",
      "95        94\n",
      "96        92\n",
      "97        69\n",
      "98        69\n",
      "Name: count, Length: 98, dtype: int64\n"
     ]
    }
   ],
   "source": [
    "# Delete rows where age equals 120\n",
    "df2 = df2[df2['Vict Age'] != 120]\n",
    "\n",
    "print(df2['Vict Age'].value_counts())"
   ]
  },
  {
   "cell_type": "markdown",
   "id": "b9eebb91-3292-42f2-85cf-42d69679298a",
   "metadata": {},
   "source": [
    "## Descriptive statistics"
   ]
  },
  {
   "cell_type": "code",
   "execution_count": 125,
   "id": "eb769aee-e885-45c3-9021-bbebb743ac17",
   "metadata": {},
   "outputs": [
    {
     "name": "stdout",
     "output_type": "stream",
     "text": [
      "count    925719.000000\n",
      "mean         37.402732\n",
      "std          13.996822\n",
      "min           2.000000\n",
      "25%          31.000000\n",
      "50%          31.000000\n",
      "75%          45.000000\n",
      "max          99.000000\n",
      "Name: Vict Age, dtype: float64\n"
     ]
    }
   ],
   "source": [
    "print(df2['Vict Age'].describe())"
   ]
  },
  {
   "cell_type": "markdown",
   "id": "dcef1ec4-6554-40d2-b048-58dccdfc5dab",
   "metadata": {},
   "source": [
    "#### *Data Analysis*\n",
    "- The average age is around 29.55.\n",
    "- The standard deviation is around 21.86, indicating some age dispersion around the mean.\n",
    "- The minimum age is -4 years, which is an outlier.\n",
    "- The quartiles show that 25% of values are less than or equal to 0, 50% of values are less than or equal to 31\n",
    "  and 75% of values are less than or equal to 45.\n",
    "- The maximum age is 99.\n",
    "#### *Conclusion*\n",
    "- We decided to replace these 25% of values that are less than or equal to 0 with the median of the age distribution.\n",
    "  Since the median is a measure of central tendency which is robust to outliers.\n",
    "- We have some victims with a negative age, which will be replace by the median too."
   ]
  },
  {
   "cell_type": "markdown",
   "id": "3cbbd98f-1fd6-44fb-9f50-a80c9eedee78",
   "metadata": {},
   "source": [
    "#### *Median of the 'Vict Age' column*"
   ]
  },
  {
   "cell_type": "code",
   "execution_count": 126,
   "id": "7bc00275-738c-4d86-ada1-9e3062890a4e",
   "metadata": {},
   "outputs": [
    {
     "name": "stdout",
     "output_type": "stream",
     "text": [
      "count    925719.000000\n",
      "mean         37.402732\n",
      "std          13.996822\n",
      "min           2.000000\n",
      "25%          31.000000\n",
      "50%          31.000000\n",
      "75%          45.000000\n",
      "max          99.000000\n",
      "Name: Vict Age, dtype: float64\n"
     ]
    }
   ],
   "source": [
    "median_age = df2['Vict Age'].median()\n",
    "\n",
    "# Replace values equal to 0 by the median\n",
    "df2.loc[df2['Vict Age'] == 0, 'Vict Age'] = median_age\n",
    "\n",
    "# Replace negative values by the median\n",
    "df2.loc[df1['Vict Age'] < 0, 'Vict Age'] = median_age\n",
    "\n",
    "print(df2['Vict Age'].describe())"
   ]
  },
  {
   "cell_type": "code",
   "execution_count": 127,
   "id": "6d746f71-c4ff-444a-bec1-c490fc005c15",
   "metadata": {},
   "outputs": [
    {
     "name": "stdout",
     "output_type": "stream",
     "text": [
      "[31 47 19 28 41 25 27 24 26  8  7 13 56 22 23 30 57 12 46 51 37 20 29 33\n",
      " 34 15 65 59  9 35 50 64 79 40 44 32 16 21 42  6 72 10 60 36 18 17  5 39\n",
      " 62 58 63 14 71 69 49 38 61 43 45 78 67 53 54 11 48 73 52 68 81 80  3 55\n",
      " 89 70 77 83 91 82 75 76 74  4  2 66 84 87 86 85 90 99 96 88 92 94 93 95\n",
      " 97 98]\n"
     ]
    }
   ],
   "source": [
    "unique_ages = df2['Vict Age'].unique()\n",
    "print(unique_ages)"
   ]
  },
  {
   "cell_type": "code",
   "execution_count": 128,
   "id": "15306d60-33ca-485e-831c-905657261974",
   "metadata": {},
   "outputs": [
    {
     "name": "stdout",
     "output_type": "stream",
     "text": [
      "Vict Age\n",
      "31    254297\n",
      "30     20914\n",
      "35     20519\n",
      "29     19947\n",
      "28     19665\n",
      "       ...  \n",
      "94       101\n",
      "95        94\n",
      "96        92\n",
      "97        69\n",
      "98        69\n",
      "Name: count, Length: 98, dtype: int64\n"
     ]
    }
   ],
   "source": [
    "print(df2['Vict Age'].value_counts())"
   ]
  },
  {
   "cell_type": "code",
   "execution_count": 129,
   "id": "077330c9-e53e-45cd-b5fc-bb2ad084bffa",
   "metadata": {},
   "outputs": [
    {
     "name": "stdout",
     "output_type": "stream",
     "text": [
      "Missing values in age column : 0\n"
     ]
    }
   ],
   "source": [
    "miss_val = df2['Vict Age'].isnull().sum() \n",
    "print(\"Missing values in age column :\", miss_val)"
   ]
  },
  {
   "cell_type": "code",
   "execution_count": 130,
   "id": "6308f708-fc05-4dfa-9767-30407c5c8fe2",
   "metadata": {},
   "outputs": [
    {
     "data": {
      "text/html": [
       "<div>\n",
       "<style scoped>\n",
       "    .dataframe tbody tr th:only-of-type {\n",
       "        vertical-align: middle;\n",
       "    }\n",
       "\n",
       "    .dataframe tbody tr th {\n",
       "        vertical-align: top;\n",
       "    }\n",
       "\n",
       "    .dataframe thead th {\n",
       "        text-align: right;\n",
       "    }\n",
       "</style>\n",
       "<table border=\"1\" class=\"dataframe\">\n",
       "  <thead>\n",
       "    <tr style=\"text-align: right;\">\n",
       "      <th></th>\n",
       "      <th>Division of Records</th>\n",
       "      <th>Crime date</th>\n",
       "      <th>Crime time</th>\n",
       "      <th>Vict Age</th>\n",
       "      <th>Vict Sex</th>\n",
       "      <th>Race</th>\n",
       "      <th>Crime Com</th>\n",
       "      <th>LOCATION</th>\n",
       "      <th>LAT</th>\n",
       "      <th>LON</th>\n",
       "    </tr>\n",
       "  </thead>\n",
       "  <tbody>\n",
       "    <tr>\n",
       "      <th>0</th>\n",
       "      <td>190326475</td>\n",
       "      <td>2020-03-01</td>\n",
       "      <td>21:30</td>\n",
       "      <td>31</td>\n",
       "      <td>M</td>\n",
       "      <td>O</td>\n",
       "      <td>510.0</td>\n",
       "      <td>1900 S  LONGWOOD                     AV</td>\n",
       "      <td>34.0375</td>\n",
       "      <td>-118.3506</td>\n",
       "    </tr>\n",
       "    <tr>\n",
       "      <th>1</th>\n",
       "      <td>200106753</td>\n",
       "      <td>2020-02-08</td>\n",
       "      <td>18:00</td>\n",
       "      <td>47</td>\n",
       "      <td>M</td>\n",
       "      <td>O</td>\n",
       "      <td>330.0</td>\n",
       "      <td>1000 S  FLOWER                       ST</td>\n",
       "      <td>34.0444</td>\n",
       "      <td>-118.2628</td>\n",
       "    </tr>\n",
       "    <tr>\n",
       "      <th>2</th>\n",
       "      <td>200320258</td>\n",
       "      <td>2020-11-04</td>\n",
       "      <td>17:00</td>\n",
       "      <td>19</td>\n",
       "      <td>X</td>\n",
       "      <td>X</td>\n",
       "      <td>480.0</td>\n",
       "      <td>1400 W  37TH                         ST</td>\n",
       "      <td>34.0210</td>\n",
       "      <td>-118.3002</td>\n",
       "    </tr>\n",
       "    <tr>\n",
       "      <th>3</th>\n",
       "      <td>200907217</td>\n",
       "      <td>2020-03-10</td>\n",
       "      <td>20:37</td>\n",
       "      <td>19</td>\n",
       "      <td>M</td>\n",
       "      <td>O</td>\n",
       "      <td>343.0</td>\n",
       "      <td>14000    RIVERSIDE                    DR</td>\n",
       "      <td>34.1576</td>\n",
       "      <td>-118.4387</td>\n",
       "    </tr>\n",
       "    <tr>\n",
       "      <th>4</th>\n",
       "      <td>220614831</td>\n",
       "      <td>2020-08-17</td>\n",
       "      <td>12:00</td>\n",
       "      <td>28</td>\n",
       "      <td>M</td>\n",
       "      <td>H</td>\n",
       "      <td>354.0</td>\n",
       "      <td>1900    TRANSIENT</td>\n",
       "      <td>34.0944</td>\n",
       "      <td>-118.3277</td>\n",
       "    </tr>\n",
       "  </tbody>\n",
       "</table>\n",
       "</div>"
      ],
      "text/plain": [
       "   Division of Records  Crime date Crime time  Vict Age Vict Sex Race  \\\n",
       "0            190326475  2020-03-01      21:30        31        M    O   \n",
       "1            200106753  2020-02-08      18:00        47        M    O   \n",
       "2            200320258  2020-11-04      17:00        19        X    X   \n",
       "3            200907217  2020-03-10      20:37        19        M    O   \n",
       "4            220614831  2020-08-17      12:00        28        M    H   \n",
       "\n",
       "  Crime Com                                  LOCATION      LAT       LON  \n",
       "0     510.0   1900 S  LONGWOOD                     AV  34.0375 -118.3506  \n",
       "1     330.0   1000 S  FLOWER                       ST  34.0444 -118.2628  \n",
       "2     480.0   1400 W  37TH                         ST  34.0210 -118.3002  \n",
       "3     343.0  14000    RIVERSIDE                    DR  34.1576 -118.4387  \n",
       "4     354.0                         1900    TRANSIENT  34.0944 -118.3277  "
      ]
     },
     "execution_count": 130,
     "metadata": {},
     "output_type": "execute_result"
    }
   ],
   "source": [
    "df2.head()"
   ]
  },
  {
   "cell_type": "markdown",
   "id": "5daf2dad-fede-4293-9d1e-01cf5e452e32",
   "metadata": {},
   "source": [
    "## III. Some studies on crimes committed"
   ]
  },
  {
   "cell_type": "code",
   "execution_count": null,
   "id": "ee42e3df-2003-429e-8d8f-7600d2f385cf",
   "metadata": {},
   "outputs": [],
   "source": []
  },
  {
   "cell_type": "markdown",
   "id": "c44993e3-3265-401b-98fd-0820408bf696",
   "metadata": {},
   "source": [
    "### 1. Create a bar chart according to age:\n",
    "To visualize the distribution of victims according to age"
   ]
  },
  {
   "cell_type": "code",
   "execution_count": 131,
   "id": "11522796-6751-4743-8f90-183ddd4bf31d",
   "metadata": {},
   "outputs": [
    {
     "data": {
      "image/png": "[encoded data removed]",
      "text/plain": [
       "<Figure size 1000x600 with 1 Axes>"
      ]
     },
     "metadata": {},
     "output_type": "display_data"
    }
   ],
   "source": [
    "# Group ages by category\n",
    "bins = [0, 10, 20, 30, 40, 50, 60, 70, 80, 90, 100]\n",
    "labels = ['0-9', '10-19', '20-29', '30-39', '40-49', '50-59', '60-69', '70-79', '80-89', '90-99']\n",
    "age_categories = pd.cut(df2['Vict Age'], bins=bins, labels=labels, right=False)\n",
    "\n",
    "# Counts the number of victims in each category\n",
    "age_counts = age_categories.value_counts().sort_index()\n",
    "\n",
    "# Create a bar chart\n",
    "plt.figure(figsize=(10, 6))\n",
    "plt.bar(age_counts.index, age_counts.values, color='lightgreen')\n",
    "\n",
    "# Graphic customization\n",
    "plt.title('Distribution of victims by age')\n",
    "plt.xlabel('Age')\n",
    "plt.ylabel('Number of victims')\n",
    "plt.xticks(rotation=45, ha='right')\n",
    "plt.grid(axis='y')\n"
   ]
  },
  {
   "cell_type": "markdown",
   "id": "6fd7514b-2152-4e87-916e-1596124e2bce",
   "metadata": {},
   "source": [
    "### 2. Create a bar chart with male, female and unknow age distributions:\n",
    "A bar chart with male, female and unknow age distributions plotted on the same graph, allowing for easy comparison between the three groups "
   ]
  },
  {
   "cell_type": "code",
   "execution_count": 132,
   "id": "d7dbf782-634f-4c69-b0fb-b33a254fd85d",
   "metadata": {},
   "outputs": [
    {
     "data": {
      "image/png": "[encoded data removed]",
      "text/plain": [
       "<Figure size 1200x800 with 1 Axes>"
      ]
     },
     "metadata": {},
     "output_type": "display_data"
    }
   ],
   "source": [
    "# Filter the data for each gender\n",
    "male_data = df2[df2['Vict Sex'] == 'M']\n",
    "female_data = df2[df2['Vict Sex'] == 'F']\n",
    "unknow_data = df2[df2['Vict Sex'] == 'X']\n",
    "\n",
    "# Calculate age counts for each gender\n",
    "male_age_counts = male_data['Vict Age'].value_counts().sort_index()\n",
    "female_age_counts = female_data['Vict Age'].value_counts().sort_index()\n",
    "unknow_age_counts = unknow_data['Vict Age'].value_counts().sort_index()\n",
    "\n",
    "# Create a bar chart for age distribution by gender\n",
    "plt.figure(figsize=(12, 8))\n",
    "\n",
    "plt.bar(male_age_counts.index, male_age_counts.values, color='green', alpha=0.7, label='Male')\n",
    "plt.bar(female_age_counts.index, female_age_counts.values, color='red', alpha=0.7, label='Female')\n",
    "plt.bar(unknow_age_counts.index, unknow_age_counts.values, color='yellow', alpha=0.7, label='Unknow')\n",
    "\n",
    "plt.title('Age Distribution of Victims by Gender')\n",
    "plt.xlabel('Age')\n",
    "plt.ylabel('Frequency')\n",
    "plt.legend()\n",
    "plt.grid(axis='y')\n",
    "\n",
    "plt.tight_layout()\n",
    "plt.show()"
   ]
  },
  {
   "cell_type": "markdown",
   "id": "9e9588e0-df0c-4a21-8bcc-a2cb9aecefd8",
   "metadata": {},
   "source": [
    "### 3. Create a bar chart of victims by race:\n",
    "bar chart comparing the number of victims by race"
   ]
  },
  {
   "cell_type": "code",
   "execution_count": 133,
   "id": "92b3cce2-5811-4b5a-91db-e81d326ae815",
   "metadata": {},
   "outputs": [
    {
     "data": {
      "image/png": "[encoded data removed]",
      "text/plain": [
       "<Figure size 1000x600 with 1 Axes>"
      ]
     },
     "metadata": {},
     "output_type": "display_data"
    }
   ],
   "source": [
    "# Extract the counts of each race\n",
    "race_counts = df2['Race'].value_counts()\n",
    "\n",
    "# Plotting a bar chart\n",
    "plt.figure(figsize=(10, 6))\n",
    "race_counts.plot(kind='bar', color='skyblue')\n",
    "plt.title('Distribution of Victims by Race')\n",
    "plt.xlabel('Race')\n",
    "plt.ylabel('Number of Victims')\n",
    "plt.xticks(rotation=45)\n",
    "plt.tight_layout()\n",
    "plt.show()"
   ]
  },
  {
   "cell_type": "code",
   "execution_count": 134,
   "id": "aa9db21b-30d4-4a08-915c-a97c6689be04",
   "metadata": {},
   "outputs": [],
   "source": [
    "lat_unique_values = df2['LAT'].unique()\n",
    "lon_unique_values = df2['LON'].unique()"
   ]
  },
  {
   "cell_type": "code",
   "execution_count": 135,
   "id": "f7691f5d-c3b6-40df-a5c6-c2c40b988fde",
   "metadata": {},
   "outputs": [
    {
     "name": "stdout",
     "output_type": "stream",
     "text": [
      "LON\n",
      "-118.2739    7082\n",
      "-118.2827    6086\n",
      "-118.2915    3959\n",
      "-118.2652    3947\n",
      "-118.2871    3690\n",
      "             ... \n",
      "-118.6578       1\n",
      "-118.6331       1\n",
      "-118.4904       1\n",
      "-118.6351       1\n",
      "-118.6323       1\n",
      "Name: count, Length: 4976, dtype: int64\n"
     ]
    }
   ],
   "source": [
    "print(df2['LON'].value_counts())"
   ]
  },
  {
   "cell_type": "code",
   "execution_count": 136,
   "id": "0273962b-8b10-4803-bee2-f54b3c09c83e",
   "metadata": {},
   "outputs": [
    {
     "name": "stdout",
     "output_type": "stream",
     "text": [
      "LON\n",
      "-118.2739    7082\n",
      "-118.2827    6086\n",
      "-118.2915    3959\n",
      "-118.2652    3947\n",
      "-118.2871    3690\n",
      "             ... \n",
      "-118.6578       1\n",
      "-118.6331       1\n",
      "-118.4904       1\n",
      "-118.6351       1\n",
      "-118.6323       1\n",
      "Name: count, Length: 4976, dtype: int64\n"
     ]
    }
   ],
   "source": [
    "counting = df2['LON'].value_counts(dropna=False)\n",
    "print(counting)"
   ]
  },
  {
   "cell_type": "code",
   "execution_count": 137,
   "id": "4e26d28a-2d65-4669-8af7-c52cf6ed1f47",
   "metadata": {},
   "outputs": [
    {
     "data": {
      "image/png": "[encoded data removed]",
      "text/plain": [
       "<Figure size 1000x600 with 1 Axes>"
      ]
     },
     "metadata": {},
     "output_type": "display_data"
    }
   ],
   "source": [
    "# Extract Latitude and Longitude data\n",
    "latitude = df2['LAT']\n",
    "longitude = df2['LON']\n",
    "\n",
    "# Create a scatter plot to display Latitude and Longitude\n",
    "plt.figure(figsize=(10, 6))\n",
    "plt.scatter(longitude, latitude, alpha=0.5)\n",
    "plt.title('Scatter Plot of Latitude and Longitude')\n",
    "plt.xlabel('Longitude')\n",
    "plt.ylabel('Latitude')\n",
    "plt.grid(True)\n",
    "plt.show()"
   ]
  },
  {
   "cell_type": "code",
   "execution_count": 138,
   "id": "b6b1d03e-d645-4a8a-9ae5-f224372f2adb",
   "metadata": {},
   "outputs": [
    {
     "ename": "MemoryError",
     "evalue": "Unable to allocate 56.4 GiB for an array with shape (65412, 925719) and data type bool",
     "output_type": "error",
     "traceback": [
      "\u001b[1;31m---------------------------------------------------------------------------\u001b[0m",
      "\u001b[1;31mMemoryError\u001b[0m                               Traceback (most recent call last)",
      "Cell \u001b[1;32mIn[138], line 2\u001b[0m\n\u001b[0;32m      1\u001b[0m \u001b[38;5;66;03m# Convert categorical variables into dummy/indicator variables\u001b[39;00m\n\u001b[1;32m----> 2\u001b[0m df2_encoded \u001b[38;5;241m=\u001b[39m pd\u001b[38;5;241m.\u001b[39mget_dummies(df2)\n",
      "File \u001b[1;32mC:\\ProgramData\\anaconda3\\Lib\\site-packages\\pandas\\core\\reshape\\encoding.py:209\u001b[0m, in \u001b[0;36mget_dummies\u001b[1;34m(data, prefix, prefix_sep, dummy_na, columns, sparse, drop_first, dtype)\u001b[0m\n\u001b[0;32m    205\u001b[0m     with_dummies \u001b[38;5;241m=\u001b[39m [data\u001b[38;5;241m.\u001b[39mselect_dtypes(exclude\u001b[38;5;241m=\u001b[39mdtypes_to_encode)]\n\u001b[0;32m    207\u001b[0m \u001b[38;5;28;01mfor\u001b[39;00m col, pre, sep \u001b[38;5;129;01min\u001b[39;00m \u001b[38;5;28mzip\u001b[39m(data_to_encode\u001b[38;5;241m.\u001b[39mitems(), prefix, prefix_sep):\n\u001b[0;32m    208\u001b[0m     \u001b[38;5;66;03m# col is (column_name, column), use just column data here\u001b[39;00m\n\u001b[1;32m--> 209\u001b[0m     dummy \u001b[38;5;241m=\u001b[39m _get_dummies_1d(\n\u001b[0;32m    210\u001b[0m         col[\u001b[38;5;241m1\u001b[39m],\n\u001b[0;32m    211\u001b[0m         prefix\u001b[38;5;241m=\u001b[39mpre,\n\u001b[0;32m    212\u001b[0m         prefix_sep\u001b[38;5;241m=\u001b[39msep,\n\u001b[0;32m    213\u001b[0m         dummy_na\u001b[38;5;241m=\u001b[39mdummy_na,\n\u001b[0;32m    214\u001b[0m         sparse\u001b[38;5;241m=\u001b[39msparse,\n\u001b[0;32m    215\u001b[0m         drop_first\u001b[38;5;241m=\u001b[39mdrop_first,\n\u001b[0;32m    216\u001b[0m         dtype\u001b[38;5;241m=\u001b[39mdtype,\n\u001b[0;32m    217\u001b[0m     )\n\u001b[0;32m    218\u001b[0m     with_dummies\u001b[38;5;241m.\u001b[39mappend(dummy)\n\u001b[0;32m    219\u001b[0m result \u001b[38;5;241m=\u001b[39m concat(with_dummies, axis\u001b[38;5;241m=\u001b[39m\u001b[38;5;241m1\u001b[39m)\n",
      "File \u001b[1;32mC:\\ProgramData\\anaconda3\\Lib\\site-packages\\pandas\\core\\reshape\\encoding.py:330\u001b[0m, in \u001b[0;36m_get_dummies_1d\u001b[1;34m(data, prefix, prefix_sep, dummy_na, sparse, drop_first, dtype)\u001b[0m\n\u001b[0;32m    328\u001b[0m \u001b[38;5;28;01melse\u001b[39;00m:\n\u001b[0;32m    329\u001b[0m     eye_dtype \u001b[38;5;241m=\u001b[39m np\u001b[38;5;241m.\u001b[39mbool_\n\u001b[1;32m--> 330\u001b[0m dummy_mat \u001b[38;5;241m=\u001b[39m np\u001b[38;5;241m.\u001b[39meye(number_of_cols, dtype\u001b[38;5;241m=\u001b[39meye_dtype)\u001b[38;5;241m.\u001b[39mtake(codes, axis\u001b[38;5;241m=\u001b[39m\u001b[38;5;241m1\u001b[39m)\u001b[38;5;241m.\u001b[39mT\n\u001b[0;32m    332\u001b[0m \u001b[38;5;28;01mif\u001b[39;00m \u001b[38;5;129;01mnot\u001b[39;00m dummy_na:\n\u001b[0;32m    333\u001b[0m     \u001b[38;5;66;03m# reset NaN GH4446\u001b[39;00m\n\u001b[0;32m    334\u001b[0m     dummy_mat[codes \u001b[38;5;241m==\u001b[39m \u001b[38;5;241m-\u001b[39m\u001b[38;5;241m1\u001b[39m] \u001b[38;5;241m=\u001b[39m \u001b[38;5;241m0\u001b[39m\n",
      "\u001b[1;31mMemoryError\u001b[0m: Unable to allocate 56.4 GiB for an array with shape (65412, 925719) and data type bool"
     ]
    }
   ],
   "source": [
    "# Convert categorical variables into dummy/indicator variables\n",
    "df2_encoded = pd.get_dummies(df2)"
   ]
  },
  {
   "cell_type": "code",
   "execution_count": 114,
   "id": "04c1ffa5-643d-434c-ad42-3e9fe559a02b",
   "metadata": {
    "scrolled": true
   },
   "outputs": [
    {
     "data": {
      "text/html": [
       "<div>\n",
       "<style scoped>\n",
       "    .dataframe tbody tr th:only-of-type {\n",
       "        vertical-align: middle;\n",
       "    }\n",
       "\n",
       "    .dataframe tbody tr th {\n",
       "        vertical-align: top;\n",
       "    }\n",
       "\n",
       "    .dataframe thead th {\n",
       "        text-align: right;\n",
       "    }\n",
       "</style>\n",
       "<table border=\"1\" class=\"dataframe\">\n",
       "  <thead>\n",
       "    <tr style=\"text-align: right;\">\n",
       "      <th></th>\n",
       "      <th>Division of Records</th>\n",
       "      <th>Crime date</th>\n",
       "      <th>Crime time</th>\n",
       "      <th>Vict Age</th>\n",
       "      <th>Vict Sex</th>\n",
       "      <th>Race</th>\n",
       "      <th>Crime Com</th>\n",
       "      <th>LOCATION</th>\n",
       "      <th>LAT</th>\n",
       "      <th>LON</th>\n",
       "    </tr>\n",
       "  </thead>\n",
       "  <tbody>\n",
       "    <tr>\n",
       "      <th>0</th>\n",
       "      <td>190326475</td>\n",
       "      <td>2020-03-01</td>\n",
       "      <td>21:30</td>\n",
       "      <td>31</td>\n",
       "      <td>M</td>\n",
       "      <td>O</td>\n",
       "      <td>510.0</td>\n",
       "      <td>1900 S  LONGWOOD                     AV</td>\n",
       "      <td>34.0375</td>\n",
       "      <td>-118.3506</td>\n",
       "    </tr>\n",
       "    <tr>\n",
       "      <th>1</th>\n",
       "      <td>200106753</td>\n",
       "      <td>2020-02-08</td>\n",
       "      <td>18:00</td>\n",
       "      <td>47</td>\n",
       "      <td>M</td>\n",
       "      <td>O</td>\n",
       "      <td>330.0</td>\n",
       "      <td>1000 S  FLOWER                       ST</td>\n",
       "      <td>34.0444</td>\n",
       "      <td>-118.2628</td>\n",
       "    </tr>\n",
       "    <tr>\n",
       "      <th>2</th>\n",
       "      <td>200320258</td>\n",
       "      <td>2020-11-04</td>\n",
       "      <td>17:00</td>\n",
       "      <td>19</td>\n",
       "      <td>X</td>\n",
       "      <td>X</td>\n",
       "      <td>480.0</td>\n",
       "      <td>1400 W  37TH                         ST</td>\n",
       "      <td>34.0210</td>\n",
       "      <td>-118.3002</td>\n",
       "    </tr>\n",
       "    <tr>\n",
       "      <th>3</th>\n",
       "      <td>200907217</td>\n",
       "      <td>2020-03-10</td>\n",
       "      <td>20:37</td>\n",
       "      <td>19</td>\n",
       "      <td>M</td>\n",
       "      <td>O</td>\n",
       "      <td>343.0</td>\n",
       "      <td>14000    RIVERSIDE                    DR</td>\n",
       "      <td>34.1576</td>\n",
       "      <td>-118.4387</td>\n",
       "    </tr>\n",
       "    <tr>\n",
       "      <th>4</th>\n",
       "      <td>220614831</td>\n",
       "      <td>2020-08-17</td>\n",
       "      <td>12:00</td>\n",
       "      <td>28</td>\n",
       "      <td>M</td>\n",
       "      <td>H</td>\n",
       "      <td>354.0</td>\n",
       "      <td>1900    TRANSIENT</td>\n",
       "      <td>34.0944</td>\n",
       "      <td>-118.3277</td>\n",
       "    </tr>\n",
       "  </tbody>\n",
       "</table>\n",
       "</div>"
      ],
      "text/plain": [
       "   Division of Records  Crime date Crime time  Vict Age Vict Sex Race  \\\n",
       "0            190326475  2020-03-01      21:30        31        M    O   \n",
       "1            200106753  2020-02-08      18:00        47        M    O   \n",
       "2            200320258  2020-11-04      17:00        19        X    X   \n",
       "3            200907217  2020-03-10      20:37        19        M    O   \n",
       "4            220614831  2020-08-17      12:00        28        M    H   \n",
       "\n",
       "  Crime Com                                  LOCATION      LAT       LON  \n",
       "0     510.0   1900 S  LONGWOOD                     AV  34.0375 -118.3506  \n",
       "1     330.0   1000 S  FLOWER                       ST  34.0444 -118.2628  \n",
       "2     480.0   1400 W  37TH                         ST  34.0210 -118.3002  \n",
       "3     343.0  14000    RIVERSIDE                    DR  34.1576 -118.4387  \n",
       "4     354.0                         1900    TRANSIENT  34.0944 -118.3277  "
      ]
     },
     "execution_count": 114,
     "metadata": {},
     "output_type": "execute_result"
    }
   ],
   "source": [
    "df2.head(5)"
   ]
  },
  {
   "cell_type": "code",
   "execution_count": null,
   "id": "b5751a02-19e1-4171-a0bf-a23e87e2e0cc",
   "metadata": {},
   "outputs": [],
   "source": [
    "grouped_data.fillna(0, inplace=True)"
   ]
  },
  {
   "cell_type": "code",
   "execution_count": null,
   "id": "6132841c-2c80-4c4b-bf39-099ead17f0bf",
   "metadata": {},
   "outputs": [],
   "source": [
    "count = df2['Race'].value_counts(dropna=False)\n",
    "print(count)"
   ]
  },
  {
   "cell_type": "code",
   "execution_count": null,
   "id": "eea1cb88-e8ce-4d9c-a376-61c50f61ab2e",
   "metadata": {},
   "outputs": [],
   "source": [
    "# Sample data (replace this with your actual data)\n",
    "age_groups = ['0-10', '11-20', '21-30', '31-40', '41-50']\n",
    "male_counts = [100, 150, 200, 180, 120]  # Example counts for males\n",
    "female_counts = [80, 120, 150, 130, 90]  # Example counts for females\n",
    "\n",
    "# Define the width of the bars\n",
    "bar_width = 0.35\n",
    "\n",
    "# Set the positions for the bars on the x-axis\n",
    "r1 = np.arange(len(age_groups))\n",
    "r2 = [x + bar_width for x in r1]\n",
    "\n",
    "# Create the grouped bar chart\n",
    "plt.bar(r1, male_counts, color='b', width=bar_width, edgecolor='grey', label='Male')\n",
    "plt.bar(r2, female_counts, color='r', width=bar_width, edgecolor='grey', label='Female')\n",
    "\n",
    "# Add labels and title\n",
    "plt.xlabel('Age Groups')\n",
    "plt.ylabel('Number of Victims')\n",
    "plt.title('Number of Victims by Age Groups, Race, and Sex')\n",
    "plt.xticks([r + bar_width/2 for r in range(len(age_groups))], age_groups)\n",
    "\n",
    "# Add legend\n",
    "plt.legend()\n",
    "\n",
    "# Show plot"
   ]
  },
  {
   "cell_type": "markdown",
   "id": "ea034e8f-4023-43db-a7e5-4cdca9d38db0",
   "metadata": {},
   "source": [
    "## 5. Profile Report"
   ]
  },
  {
   "cell_type": "code",
   "execution_count": null,
   "id": "ad5569ab-01ef-45f3-ad0a-c56de23e112e",
   "metadata": {},
   "outputs": [],
   "source": [
    "#pip install ydata-profiling"
   ]
  },
  {
   "cell_type": "code",
   "execution_count": null,
   "id": "67df891a-e0b8-49ca-af9a-5c1c5a5106ed",
   "metadata": {},
   "outputs": [],
   "source": [
    "from ydata_profiling import ProfileReport\n",
    "ProfileReport(df2)"
   ]
  },
  {
   "cell_type": "code",
   "execution_count": null,
   "id": "0e72c106-f66f-4dc3-b77b-65c3e0d62816",
   "metadata": {},
   "outputs": [],
   "source": [
    "unique_value = 'nan'\n",
    "insight = df2[df2['Vict Sex'] == unique_value]\n",
    "print(insight)"
   ]
  },
  {
   "cell_type": "code",
   "execution_count": null,
   "id": "0f3861ae-6cc3-410d-adbf-08e033604495",
   "metadata": {},
   "outputs": [],
   "source": [
    "old_vict_sex_H = 'H'\n",
    "new_vict_sex_X = 'X'\n",
    "df2['Vict Sex'] = df2['Vict Sex'].replace(old_vict_sex_H, new_vict_sex_X)\n",
    "print(df2)"
   ]
  },
  {
   "cell_type": "code",
   "execution_count": null,
   "id": "d524205a-2b96-4008-b6d1-6adf2e68dcaa",
   "metadata": {},
   "outputs": [],
   "source": [
    "df2"
   ]
  },
  {
   "cell_type": "code",
   "execution_count": null,
   "id": "ef8d9628-f5d6-439e-8f46-4f2511babf22",
   "metadata": {},
   "outputs": [],
   "source": [
    "from ydata_profiling import ProfileReport"
   ]
  },
  {
   "cell_type": "markdown",
   "id": "e973ebd0",
   "metadata": {},
   "source": [
    "### Observation ###\n",
    "\n",
    "   - The dataset has 37 variables and 4424 attibutes\n",
    "   - The dataset has 12 variables in float data type\n",
    "   - The dataset has 19 variables in integer data type\n",
    "   - The dataset has 6 variables in objet data type\n",
    "   - There are no duplicate rows in the dataset  "
   ]
  },
  {
   "cell_type": "code",
   "execution_count": null,
   "id": "c8a9b524-d2e8-4dfd-b89b-21f496d847ab",
   "metadata": {},
   "outputs": [],
   "source": [
    "df2 = df1.drop(['variable', 'value'], axis=1)"
   ]
  },
  {
   "cell_type": "code",
   "execution_count": null,
   "id": "bba74187-021c-4cf3-94a7-8b481b05c89e",
   "metadata": {},
   "outputs": [],
   "source": [
    "dfM = df.melt(['DR_NO', 'DATE OCC', 'Vict Age', 'Vict Sex', 'Vict Descent', 'Crm Cd 1',\n",
    "       'Crm Cd 2', 'Crm Cd 3', 'Crm Cd 4', 'LOCATION', 'LAT', 'LON'], ['Date Rptd', 'TIME OCC', 'AREA', 'AREA NAME',\n",
    "       'Rpt Dist No', 'Part 1-2', 'Crm Cd', 'Crm Cd Desc', 'Mocodes', 'Premis Cd', 'Premis Desc', \n",
    "        'Weapon Used Cd', 'Weapon Desc', 'Status', 'Status Desc', 'Cross Street'])"
   ]
  },
  {
   "cell_type": "markdown",
   "id": "20a30b7d",
   "metadata": {},
   "source": [
    "## 5. Data cleaning\n",
    "Given the context of our dataset, which is a set of student data, there is a certain amount of what we call **irrelevant data**, which will be dropped. It seems to us to be the academic transcript of students. The data on the transcript depends on the school's policies. We have therefore decided to keep the variables that are useful and relevant to us, to avoid overloading the transcript."
   ]
  },
  {
   "cell_type": "code",
   "execution_count": null,
   "id": "c1929a07",
   "metadata": {},
   "outputs": [],
   "source": [
    "dfMelt = df.melt(['Course', 'Daytime/evening attendance', 'Nacionality', 'Admission grade', 'Gender', 'Age at enrollment', \n",
    "        'Curricular units 1st sem (credited)', 'Curricular units 1st sem (enrolled)', 'Curricular units 1st sem (approved)', \n",
    "        'Curricular units 1st sem (grade)', 'Curricular units 2nd sem (credited)', 'Curricular units 2nd sem (enrolled)', \n",
    "        'Curricular units 2nd sem (approved)', 'Curricular units 2nd sem (grade)', 'GDP', 'Target'], \n",
    "        ['Marital status', 'Application mode', 'Application order', 'Previous qualification',\n",
    "       'Previous qualification (grade)', 'Nacionality',\n",
    "       \"Mother's qualification\", \"Father's qualification\",\n",
    "       \"Mother's occupation\", \"Father's occupation\",\n",
    "       'Displaced', 'Educational special needs', 'Debtor',\n",
    "       'Tuition fees up to date', 'Scholarship holder', 'International', 'Curricular units 1st sem (evaluations)',\n",
    "       'Curricular units 1st sem (grade)', 'Curricular units 1st sem (without evaluations)',\n",
    "       'Curricular units 2nd sem (evaluations)', 'Curricular units 2nd sem (without evaluations)', 'Unemployment rate',\n",
    "       'Inflation rate'])"
   ]
  },
  {
   "cell_type": "code",
   "execution_count": null,
   "id": "03cd9b32",
   "metadata": {},
   "outputs": [],
   "source": [
    "dfMelt.head()"
   ]
  },
  {
   "cell_type": "code",
   "execution_count": null,
   "id": "0f31c8b8",
   "metadata": {},
   "outputs": [],
   "source": [
    "dfMelt.shape"
   ]
  },
  {
   "cell_type": "code",
   "execution_count": null,
   "id": "6a8a6283",
   "metadata": {},
   "outputs": [],
   "source": [
    "dfMelt = dfMelt.drop(['variable', 'value'], axis=1)\n",
    "dfMelt.head(20)"
   ]
  },
  {
   "cell_type": "markdown",
   "id": "d1864a52",
   "metadata": {},
   "source": [
    "### Rename columns"
   ]
  },
  {
   "cell_type": "code",
   "execution_count": null,
   "id": "e0daa381",
   "metadata": {},
   "outputs": [],
   "source": [
    "dfMelt.rename(columns = {'Nacionality':'Nationality', 'Daytime/evening attendance':'Daytime/Evening', 'Curricular units 1st sem (credited)':'Credits earned 1st sem', \n",
    "                         'Curricular units 1st sem (enrolled)':'Credits enrolled 1st sem', 'Curricular units 1st sem (approved)':'Credits approved 1st sem', \n",
    "                         'GDP':'GPA', 'Curricular units 1st sem (grade)':'1st sem Grade', 'Curricular units 2nd sem (credited)':'Credits earned 2nd sem',\n",
    "                         'Curricular units 2nd sem (enrolled)':'Credits enrolled 2nd sem', 'Curricular units 2nd sem (approved)':'Credits approved 2nd sem',\n",
    "                         'Curricular units 2nd sem (grade)':'2nd sem Grade', 'Age at enrollment':'age'}, inplace =True)"
   ]
  },
  {
   "cell_type": "code",
   "execution_count": null,
   "id": "8bddc9b3",
   "metadata": {},
   "outputs": [],
   "source": [
    "dfMelt"
   ]
  },
  {
   "cell_type": "markdown",
   "id": "e8009ea9",
   "metadata": {},
   "source": [
    "### Order our variables for aesthetic reasons ###"
   ]
  },
  {
   "cell_type": "code",
   "execution_count": null,
   "id": "4a9f933e",
   "metadata": {},
   "outputs": [],
   "source": [
    "dfMelt.columns"
   ]
  },
  {
   "cell_type": "code",
   "execution_count": null,
   "id": "a5b6d23a",
   "metadata": {},
   "outputs": [],
   "source": [
    "dfMelt=dfMelt[['Course', 'Daytime/Evening', 'Nationality', 'Gender', 'age',\n",
    "       'Credits enrolled 1st sem', 'Credits approved 1st sem', 'Credits earned 1st sem',\n",
    "       '1st sem Grade', 'Credits enrolled 2nd sem', 'Credits approved 2nd sem', 'Credits earned 2nd sem',\n",
    "       '2nd sem Grade', 'GPA', 'Target', 'Admission grade']]"
   ]
  },
  {
   "cell_type": "code",
   "execution_count": null,
   "id": "2ed9cbde",
   "metadata": {},
   "outputs": [],
   "source": [
    "dfMelt.head(5)"
   ]
  },
  {
   "cell_type": "code",
   "execution_count": null,
   "id": "613ab32d",
   "metadata": {},
   "outputs": [],
   "source": [
    "print(dfMelt['1st sem Grade'].dtype)"
   ]
  },
  {
   "cell_type": "markdown",
   "id": "a27238e7",
   "metadata": {},
   "source": [
    "### Drop lines with infinite values ###"
   ]
  },
  {
   "cell_type": "code",
   "execution_count": null,
   "id": "baf35bb2",
   "metadata": {},
   "outputs": [],
   "source": [
    "dfMelt = dfMelt.replace([np.inf, -np.inf]).dropna(subset=['1st sem Grade', '2nd sem Grade'])"
   ]
  },
  {
   "cell_type": "markdown",
   "id": "46841750",
   "metadata": {},
   "source": [
    "### According to our student data dictionary, the type of the variables below is integer, so we're going to convert them ###"
   ]
  },
  {
   "cell_type": "code",
   "execution_count": null,
   "id": "4da90fe5",
   "metadata": {},
   "outputs": [],
   "source": [
    "dfMelt['1st sem Grade'] = dfMelt['1st sem Grade'].astype(int)\n",
    "dfMelt['2nd sem Grade'] = dfMelt['2nd sem Grade'].astype(int)\n"
   ]
  },
  {
   "cell_type": "code",
   "execution_count": null,
   "id": "a2bc8b3c",
   "metadata": {},
   "outputs": [],
   "source": [
    "dfMelt.head(5)"
   ]
  },
  {
   "cell_type": "markdown",
   "id": "a81a345d",
   "metadata": {},
   "source": [
    "### Replace categorical variables contained in 'Target' to numeric values ###"
   ]
  },
  {
   "cell_type": "code",
   "execution_count": null,
   "id": "f0da411f",
   "metadata": {},
   "outputs": [],
   "source": [
    "dfMelt[\"Target\"] = dfMelt[\"Target\"].map({\"Dropout\":0,\"Enrolled\":1,\"Graduate\":2})"
   ]
  },
  {
   "cell_type": "code",
   "execution_count": null,
   "id": "36d7fbce",
   "metadata": {},
   "outputs": [],
   "source": [
    "dfMelt.head(10)"
   ]
  },
  {
   "cell_type": "markdown",
   "id": "a1e6a3b5",
   "metadata": {},
   "source": [
    "### It's more interesting to enter students' year of birth than their age. We'll calculate the year of birth ###"
   ]
  },
  {
   "cell_type": "code",
   "execution_count": null,
   "id": "e0041fad",
   "metadata": {},
   "outputs": [],
   "source": [
    "import datetime as dt"
   ]
  },
  {
   "cell_type": "code",
   "execution_count": null,
   "id": "b859c800",
   "metadata": {},
   "outputs": [],
   "source": [
    "current_year = dt.datetime.now().year"
   ]
  },
  {
   "cell_type": "code",
   "execution_count": null,
   "id": "fb5ce732",
   "metadata": {},
   "outputs": [],
   "source": [
    "dfMelt['age'] = pd.to_numeric(dfMelt['age'], errors='coerce')"
   ]
  },
  {
   "cell_type": "code",
   "execution_count": null,
   "id": "bedf1ea3",
   "metadata": {},
   "outputs": [],
   "source": [
    "dfMelt['Birth Year'] = current_year - dfMelt['age']"
   ]
  },
  {
   "cell_type": "code",
   "execution_count": null,
   "id": "ea7d1382",
   "metadata": {},
   "outputs": [],
   "source": [
    "dfMelt.head(10)"
   ]
  },
  {
   "cell_type": "code",
   "execution_count": null,
   "id": "07ac1afb",
   "metadata": {},
   "outputs": [],
   "source": [
    "dfMelt['Birth Year'] = dfMelt['Birth Year'].astype(float).astype(pd.Int32Dtype(), errors='ignore')"
   ]
  },
  {
   "cell_type": "code",
   "execution_count": null,
   "id": "7ad64897",
   "metadata": {},
   "outputs": [],
   "source": [
    "dfMelt.head(10)"
   ]
  },
  {
   "cell_type": "markdown",
   "id": "d19d0313",
   "metadata": {},
   "source": [
    "### Order our variables for aesthetic reasons again, without 'age' ###"
   ]
  },
  {
   "cell_type": "code",
   "execution_count": null,
   "id": "2ec130cb",
   "metadata": {},
   "outputs": [],
   "source": [
    "dfMelt=dfMelt[['Course', 'Daytime/Evening', 'Nationality', 'Gender', 'Birth Year',\n",
    "       'Credits enrolled 1st sem', 'Credits approved 1st sem', 'Credits earned 1st sem',\n",
    "       '1st sem Grade', 'Credits enrolled 2nd sem', 'Credits approved 2nd sem', 'Credits earned 2nd sem',\n",
    "       '2nd sem Grade', 'GPA', 'Admission grade', 'Target']]"
   ]
  },
  {
   "cell_type": "code",
   "execution_count": null,
   "id": "0496d583",
   "metadata": {},
   "outputs": [],
   "source": [
    "dfMelt.head(5)"
   ]
  },
  {
   "cell_type": "markdown",
   "id": "d1064573",
   "metadata": {},
   "source": [
    "### It seems the variables 'Credits earned 1st sem' & 'Credit earned 2nd sem' have 0 like values everywhere, let see ###"
   ]
  },
  {
   "cell_type": "code",
   "execution_count": null,
   "id": "076f7edb",
   "metadata": {},
   "outputs": [],
   "source": [
    "print(dfMelt['Credits earned 1st sem'])"
   ]
  },
  {
   "cell_type": "code",
   "execution_count": null,
   "id": "1eb73424",
   "metadata": {},
   "outputs": [],
   "source": [
    "print(dfMelt['Credits earned 2nd sem'])"
   ]
  },
  {
   "cell_type": "markdown",
   "id": "f4ab9ebd",
   "metadata": {},
   "source": [
    "**It is not useful to keep them. So we are going to drop them**"
   ]
  },
  {
   "cell_type": "code",
   "execution_count": null,
   "id": "6bbdeb80",
   "metadata": {},
   "outputs": [],
   "source": [
    "dfMelt = dfMelt.drop(['Credits earned 1st sem', 'Credits earned 2nd sem'], axis=1)\n",
    "dfMelt.head(5)"
   ]
  },
  {
   "cell_type": "code",
   "execution_count": null,
   "id": "b2559ce9",
   "metadata": {},
   "outputs": [],
   "source": [
    "dfMelt.dtypes"
   ]
  },
  {
   "cell_type": "code",
   "execution_count": null,
   "id": "42bdec28",
   "metadata": {},
   "outputs": [],
   "source": [
    "dfMelt[dfMelt == '?'] = np.nan"
   ]
  },
  {
   "cell_type": "code",
   "execution_count": null,
   "id": "3c190d1f",
   "metadata": {},
   "outputs": [],
   "source": [
    "dfMelt.info()"
   ]
  },
  {
   "cell_type": "markdown",
   "id": "7166126e",
   "metadata": {},
   "source": [
    "### Impute missing values with mode"
   ]
  },
  {
   "cell_type": "code",
   "execution_count": null,
   "id": "b0b54e9e",
   "metadata": {},
   "outputs": [],
   "source": [
    "for col in ['Course', 'Birth Year', 'Credits enrolled 2nd sem', 'Target', 'Admission grade']:\n",
    "    dfMelt[col].fillna(dfMelt[col].mode()[0], inplace=True)"
   ]
  },
  {
   "cell_type": "markdown",
   "id": "5c759a62",
   "metadata": {},
   "source": [
    "### Check missing values"
   ]
  },
  {
   "cell_type": "code",
   "execution_count": null,
   "id": "d1754000",
   "metadata": {},
   "outputs": [],
   "source": [
    "dfMelt.isnull().sum()"
   ]
  },
  {
   "cell_type": "markdown",
   "id": "da353cf1",
   "metadata": {},
   "source": [
    "## IV. Machine Learning"
   ]
  },
  {
   "cell_type": "markdown",
   "id": "bb17ad7e",
   "metadata": {},
   "source": [
    "### 1. Setting feature vector and target variable"
   ]
  },
  {
   "cell_type": "code",
   "execution_count": null,
   "id": "cac71005",
   "metadata": {},
   "outputs": [],
   "source": [
    "X = dfMelt.drop(['Target'], axis=1)\n",
    "\n",
    "y = dfMelt['Target']"
   ]
  },
  {
   "cell_type": "code",
   "execution_count": null,
   "id": "84d838c8",
   "metadata": {},
   "outputs": [],
   "source": [
    "X.head()"
   ]
  },
  {
   "cell_type": "markdown",
   "id": "a66380db",
   "metadata": {},
   "source": [
    "### 2. Split data into separate training and test set"
   ]
  },
  {
   "cell_type": "code",
   "execution_count": null,
   "id": "0a404668",
   "metadata": {},
   "outputs": [],
   "source": [
    "from sklearn.model_selection import train_test_split\n",
    "\n",
    "X_train, X_test, y_train, y_test = train_test_split(X, y, test_size = 0.3, random_state = 0)"
   ]
  },
  {
   "cell_type": "markdown",
   "id": "91b4a519",
   "metadata": {},
   "source": [
    "### 3. Feature Scaling"
   ]
  },
  {
   "cell_type": "code",
   "execution_count": null,
   "id": "fa0b81ff",
   "metadata": {},
   "outputs": [],
   "source": [
    "from sklearn.preprocessing import StandardScaler\n",
    "\n",
    "scaler = StandardScaler()\n",
    "\n",
    "X_train = pd.DataFrame(scaler.fit_transform(X_train), columns = X.columns)\n",
    "\n",
    "X_test = pd.DataFrame(scaler.transform(X_test), columns = X.columns)"
   ]
  },
  {
   "cell_type": "code",
   "execution_count": null,
   "id": "23a96f41",
   "metadata": {},
   "outputs": [],
   "source": [
    "X_train.head()"
   ]
  },
  {
   "cell_type": "code",
   "execution_count": null,
   "id": "c9aa626e-3ccb-41d2-aa52-6f708d72d614",
   "metadata": {},
   "outputs": [],
   "source": [
    "from sklearn import preprocessing\n",
    "df_scaled = preprocessing.scale(dfMelt)"
   ]
  },
  {
   "cell_type": "markdown",
   "id": "50a65f5b",
   "metadata": {},
   "source": [
    "### 4. Logistic Regression model with all features"
   ]
  },
  {
   "cell_type": "code",
   "execution_count": null,
   "id": "b30be04d",
   "metadata": {},
   "outputs": [],
   "source": [
    "from sklearn.linear_model import LogisticRegression\n",
    "from sklearn.metrics import accuracy_score\n",
    "\n",
    "logreg = LogisticRegression()\n",
    "logreg.fit(X_train, y_train)\n",
    "y_pred = logreg.predict(X_test)\n",
    "\n",
    "print('Logistic Regression accuracy score with all the features: {0:0.4f}'. format(accuracy_score(y_test, y_pred)))"
   ]
  },
  {
   "cell_type": "markdown",
   "id": "bc6bd6f7",
   "metadata": {},
   "source": [
    "### 5. Logistic Regression with PCA"
   ]
  },
  {
   "cell_type": "markdown",
   "id": "aeea7aac",
   "metadata": {},
   "source": [
    "   #### The variance ratio "
   ]
  },
  {
   "cell_type": "code",
   "execution_count": null,
   "id": "5072316c",
   "metadata": {},
   "outputs": [],
   "source": [
    "from sklearn.decomposition import PCA\n",
    "pca = PCA()\n",
    "X_train = pca.fit_transform(X_train)\n",
    "pca.explained_variance_ratio_"
   ]
  },
  {
   "cell_type": "markdown",
   "id": "2ffc434d",
   "metadata": {},
   "source": [
    "### Observation\n",
    "The variance ratio indicates the proportion of the dataset’s variance that lies along the axis of each principal component.\n",
    " - We have approximately 99.7% of variance is explained by the first 12 variables.\n",
    " - Only 0.3% of variance is explained by the last variable. So, we can assume that it carries little information.\n",
    " - We are going to drop it and train the model again and calculate the accuracy."
   ]
  },
  {
   "cell_type": "markdown",
   "id": "2100fd3b",
   "metadata": {},
   "source": [
    "### Logistic Regression model with 12 features"
   ]
  },
  {
   "cell_type": "code",
   "execution_count": null,
   "id": "f46e5927",
   "metadata": {},
   "outputs": [],
   "source": [
    "X = dfMelt.drop(['Target', 'Admission grade'], axis=1)\n",
    "y = dfMelt['Target']\n",
    "X_train, X_test, y_train, y_test = train_test_split(X, y, test_size = 0.3, random_state = 0)\n",
    "\n",
    "X_train = pd.DataFrame(scaler.fit_transform(X_train), columns = X.columns)\n",
    "\n",
    "X_test = pd.DataFrame(scaler.transform(X_test), columns = X.columns)\n",
    "\n",
    "logreg = LogisticRegression()\n",
    "logreg.fit(X_train, y_train)\n",
    "y_pred = logreg.predict(X_test)\n",
    "\n",
    "print('Logistic Regression accuracy score with 12 features: {0:0.4f}'. format(accuracy_score(y_test, y_pred)))\n",
    "\n"
   ]
  },
  {
   "cell_type": "markdown",
   "id": "1be77a0f",
   "metadata": {},
   "source": [
    "### Observation\n",
    "  - We can see that accuracy has not changed 0.7517 after dropping the last feature.\n",
    "  - We are going to drop one more and train the model again and calculate the accuracy."
   ]
  },
  {
   "cell_type": "code",
   "execution_count": null,
   "id": "7213978c",
   "metadata": {},
   "outputs": [],
   "source": []
  },
  {
   "cell_type": "code",
   "execution_count": null,
   "id": "0bb53e1a",
   "metadata": {},
   "outputs": [],
   "source": [
    "X = dfMelt.drop(['Target', 'Admission grade', 'GPA'], axis=1)\n",
    "y = dfMelt['Target']\n",
    "X_train, X_test, y_train, y_test = train_test_split(X, y, test_size = 0.3, random_state = 0)\n",
    "\n",
    "X_train = pd.DataFrame(scaler.fit_transform(X_train), columns = X.columns)\n",
    "\n",
    "X_test = pd.DataFrame(scaler.transform(X_test), columns = X.columns)\n",
    "\n",
    "logreg = LogisticRegression()\n",
    "logreg.fit(X_train, y_train)\n",
    "y_pred = logreg.predict(X_test)\n",
    "\n",
    "print('Logistic Regression accuracy score with 11 features: {0:0.4f}'. format(accuracy_score(y_test, y_pred)))"
   ]
  },
  {
   "cell_type": "markdown",
   "id": "2b31d0fd",
   "metadata": {},
   "source": [
    "### Observation   \n",
    "   - We can see that accuracy has changed from 0.7517 to 0.7516 after dropping the last feature.\n",
    "   - We are going to drop one more and train the model again and calculate the accuracy."
   ]
  },
  {
   "cell_type": "code",
   "execution_count": null,
   "id": "47096ce2",
   "metadata": {},
   "outputs": [],
   "source": [
    "X = dfMelt.drop(['Target', 'Admission grade', 'GPA', '2nd sem Grade'], axis=1)\n",
    "y = dfMelt['Target']\n",
    "X_train, X_test, y_train, y_test = train_test_split(X, y, test_size = 0.3, random_state = 0)\n",
    "\n",
    "X_train = pd.DataFrame(scaler.fit_transform(X_train), columns = X.columns)\n",
    "\n",
    "X_test = pd.DataFrame(scaler.transform(X_test), columns = X.columns)\n",
    "\n",
    "logreg = LogisticRegression()\n",
    "logreg.fit(X_train, y_train)\n",
    "y_pred = logreg.predict(X_test)\n",
    "\n",
    "print('Logistic Regression accuracy score with 10 features: {0:0.4f}'. format(accuracy_score(y_test, y_pred)))"
   ]
  },
  {
   "cell_type": "markdown",
   "id": "737972d8",
   "metadata": {},
   "source": [
    "### Observation  \n",
    "  - We can see that the accuracy has decreased to 0.7418 when we drop the last three features.\n",
    "  - Our aim is to maximize the accuracy."
   ]
  },
  {
   "cell_type": "markdown",
   "id": "3b68740e",
   "metadata": {},
   "source": [
    "### 6. Number of features needed for retaining 99.5% variance in the data"
   ]
  },
  {
   "cell_type": "code",
   "execution_count": null,
   "id": "2ead6d08",
   "metadata": {},
   "outputs": [],
   "source": [
    "X = dfMelt.drop(['Target'], axis=1)\n",
    "y = dfMelt['Target']\n",
    "\n",
    "\n",
    "X_train, X_test, y_train, y_test = train_test_split(X, y, test_size = 0.3, random_state = 0)\n",
    "\n",
    "X_train = pd.DataFrame(scaler.fit_transform(X_train), columns = X.columns)\n",
    "\n",
    "\n",
    "pca= PCA()\n",
    "pca.fit(X_train)\n",
    "cumsum = np.cumsum(pca.explained_variance_ratio_)\n",
    "dim = np.argmax(cumsum >= 0.995) + 1\n",
    "print('The number of dimensions required to preserve 99.5% of variance is',dim)"
   ]
  },
  {
   "cell_type": "markdown",
   "id": "952b3810",
   "metadata": {},
   "source": [
    "### 7. Plot explained variance ratio with number of dimensions"
   ]
  },
  {
   "cell_type": "markdown",
   "id": "2ae9821d",
   "metadata": {},
   "source": [
    "We'll plot the explained variance as a function of the number of dimensions, then look for a kink where the explained variance stops growing rapidly.\n",
    "We can therefore consider this to be the dimensionality of the data set."
   ]
  },
  {
   "cell_type": "code",
   "execution_count": null,
   "id": "b2e43a8b",
   "metadata": {},
   "outputs": [],
   "source": [
    "plt.figure(figsize=(8,6))\n",
    "plt.plot(np.cumsum(pca.explained_variance_ratio_))\n",
    "plt.xlim(0,14,1)\n",
    "plt.xlabel('Number of components')\n",
    "plt.ylabel('Cumulative explained variance')\n",
    "plt.show()"
   ]
  },
  {
   "cell_type": "markdown",
   "id": "8f98286f",
   "metadata": {},
   "source": [
    "### Observation\n",
    "    The above plot shows that almost 99% of variance is explained by the first 12 components."
   ]
  },
  {
   "cell_type": "markdown",
   "id": "5cc512a1",
   "metadata": {},
   "source": [
    "The “Curse of Dimensionality ”can lead Overfitting. High-dimensional data increases the risk of overfitting, where a model captures noise or random fluctuations in the data rather than true underlying patterns. This can lead to poor generalization performance when the model is applied to new, unseen data."
   ]
  },
  {
   "cell_type": "markdown",
   "id": "c3639030",
   "metadata": {},
   "source": [
    "## V. References\n",
    "- Team, G.L. (2020). What is Curse of Dimensionality in Machine Learning? [online] GreatLearning Blog: Free Resources what Matters to shape your Career! Available at: https://www.mygreatlearning.com/blog/understanding-curse-of-dimensionality/."
   ]
  },
  {
   "cell_type": "code",
   "execution_count": null,
   "id": "c07a8c13",
   "metadata": {},
   "outputs": [],
   "source": []
  }
 ],
 "metadata": {
  "kernelspec": {
   "display_name": "Python 3 (ipykernel)",
   "language": "python",
   "name": "python3"
  },
  "language_info": {
   "codemirror_mode": {
    "name": "ipython",
    "version": 3
   },
   "file_extension": ".py",
   "mimetype": "text/x-python",
   "name": "python",
   "nbconvert_exporter": "python",
   "pygments_lexer": "ipython3",
   "version": "3.11.7"
  }
 },
 "nbformat": 4,
 "nbformat_minor": 5
}
